{
 "cells": [
  {
   "cell_type": "markdown",
   "id": "f27a7898",
   "metadata": {
    "id": "YeU4tK4YuKl1",
    "papermill": {
     "duration": 0.012199,
     "end_time": "2023-04-25T08:45:33.259846",
     "exception": false,
     "start_time": "2023-04-25T08:45:33.247647",
     "status": "completed"
    },
    "tags": []
   },
   "source": [
    "# Spam Classifier"
   ]
  },
  {
   "cell_type": "markdown",
   "id": "367792dc",
   "metadata": {
    "id": "9XNOu8lbusNc",
    "papermill": {
     "duration": 0.011146,
     "end_time": "2023-04-25T08:45:33.282083",
     "exception": false,
     "start_time": "2023-04-25T08:45:33.270937",
     "status": "completed"
    },
    "tags": []
   },
   "source": [
    "Exercise: _Build a spam classifier (a more challenging exercise):_\n",
    "\n",
    "* _Download examples of spam and ham from [Apache SpamAssassin's public datasets](https://homl.info/spamassassin)._\n",
    "* _Unzip the datasets and familiarize yourself with the data format._\n",
    "* _Split the datasets into a training set and a test set._\n",
    "* _Write a data preparation pipeline to convert each email into a feature vector. Your preparation pipeline should transform an email into a (sparse) vector that indicates the presence or absence of each possible word. For example, if all emails only ever contain four words, \"Hello,\" \"how,\" \"are,\" \"you,\" then the email \"Hello you Hello Hello you\" would be converted into a vector [1, 0, 0, 1] (meaning [“Hello\" is present, \"how\" is absent, \"are\" is absent, \"you\" is present]), or [3, 0, 0, 2] if you prefer to count the number of occurrences of each word._\n",
    "\n",
    "_You may want to add hyperparameters to your preparation pipeline to control whether or not to strip off email headers, convert each email to lowercase, remove punctuation, replace all URLs with \"URL,\" replace all numbers with \"NUMBER,\" or even perform _stemming_ (i.e., trim off word endings; there are Python libraries available to do this)._\n",
    "\n",
    "_Finally, try out several classifiers and see if you can build a great spam classifier, with both high recall and high precision._"
   ]
  },
  {
   "cell_type": "markdown",
   "id": "210b08bc",
   "metadata": {
    "id": "lY6UoTqSvtVJ",
    "papermill": {
     "duration": 0.010658,
     "end_time": "2023-04-25T08:45:33.303776",
     "exception": false,
     "start_time": "2023-04-25T08:45:33.293118",
     "status": "completed"
    },
    "tags": []
   },
   "source": [
    "# Importing Data"
   ]
  },
  {
   "cell_type": "markdown",
   "id": "05ef5e91",
   "metadata": {
    "id": "lD0HHylU8dZ1",
    "papermill": {
     "duration": 0.010693,
     "end_time": "2023-04-25T08:45:33.327232",
     "exception": false,
     "start_time": "2023-04-25T08:45:33.316539",
     "status": "completed"
    },
    "tags": []
   },
   "source": [
    "### Downloading Data"
   ]
  },
  {
   "cell_type": "code",
   "execution_count": 1,
   "id": "1ff1027b",
   "metadata": {
    "execution": {
     "iopub.execute_input": "2023-04-25T08:45:33.351900Z",
     "iopub.status.busy": "2023-04-25T08:45:33.351098Z",
     "iopub.status.idle": "2023-04-25T08:45:33.366636Z",
     "shell.execute_reply": "2023-04-25T08:45:33.365184Z"
    },
    "id": "tG5BrfZIvwph",
    "papermill": {
     "duration": 0.031411,
     "end_time": "2023-04-25T08:45:33.369688",
     "exception": false,
     "start_time": "2023-04-25T08:45:33.338277",
     "status": "completed"
    },
    "tags": []
   },
   "outputs": [],
   "source": [
    "import tarfile \n",
    "from pathlib import Path\n",
    "import urllib.request\n",
    "\n",
    "\n",
    "def fetch_spam_data():\n",
    "    spam_root = \"http://spamassassin.apache.org/old/publiccorpus/\"\n",
    "    ham_url = spam_root + \"20030228_easy_ham.tar.bz2\"\n",
    "    spam_url = spam_root + \"20030228_spam.tar.bz2\"\n",
    "\n",
    "    spam_path = Path() / \"datasets\" / \"Spam\"\n",
    "    spam_path.mkdir(parents=True, exist_ok=True)\n",
    "\n",
    "    for dir_name, tar_name, url in ((\"easy_ham\", \"ham\", ham_url),\n",
    "                                    (\"sppam\", \"spam\", spam_url)):\n",
    "        if not (spam_path / dir_name).is_dir():\n",
    "            path = (spam_path / tar_name).with_suffix(\".tar.bz2\")\n",
    "            print(\"Downloading\", path)\n",
    "            urllib.request.urlretrieve(url, path)\n",
    "            tar_bz2_file = tarfile.open(path)\n",
    "            tar_bz2_file.extractall(path=spam_path)\n",
    "            tar_bz2_file.close()\n",
    "    return [spam_path / dir_name for dir_name in (\"easy_ham\", \"spam\")]"
   ]
  },
  {
   "cell_type": "code",
   "execution_count": 2,
   "id": "74a1b348",
   "metadata": {
    "execution": {
     "iopub.execute_input": "2023-04-25T08:45:33.394317Z",
     "iopub.status.busy": "2023-04-25T08:45:33.393894Z",
     "iopub.status.idle": "2023-04-25T08:45:35.683023Z",
     "shell.execute_reply": "2023-04-25T08:45:35.681539Z"
    },
    "id": "9PFdqGVZ4t9U",
    "outputId": "7888337d-0849-4460-973e-323fe2ca3d9b",
    "papermill": {
     "duration": 2.305063,
     "end_time": "2023-04-25T08:45:35.686006",
     "exception": false,
     "start_time": "2023-04-25T08:45:33.380943",
     "status": "completed"
    },
    "tags": []
   },
   "outputs": [
    {
     "name": "stdout",
     "output_type": "stream",
     "text": [
      "Downloading datasets/Spam/ham.tar.bz2\n",
      "Downloading datasets/Spam/spam.tar.bz2\n"
     ]
    }
   ],
   "source": [
    "ham_dir, spam_dir = fetch_spam_data()"
   ]
  },
  {
   "cell_type": "code",
   "execution_count": 3,
   "id": "2aaa025d",
   "metadata": {
    "execution": {
     "iopub.execute_input": "2023-04-25T08:45:35.711986Z",
     "iopub.status.busy": "2023-04-25T08:45:35.710773Z",
     "iopub.status.idle": "2023-04-25T08:45:35.746279Z",
     "shell.execute_reply": "2023-04-25T08:45:35.745378Z"
    },
    "id": "o7yJ72L-5YXU",
    "outputId": "aa6525dc-60b4-4daa-b7ea-9e39bdfc24df",
    "papermill": {
     "duration": 0.05156,
     "end_time": "2023-04-25T08:45:35.749186",
     "exception": false,
     "start_time": "2023-04-25T08:45:35.697626",
     "status": "completed"
    },
    "tags": []
   },
   "outputs": [
    {
     "name": "stdout",
     "output_type": "stream",
     "text": [
      "Ham files : 2500\n",
      "Spam Files : 500\n"
     ]
    }
   ],
   "source": [
    "# Loading Dataset\n",
    "\n",
    "ham_filenames = [f for f in sorted(ham_dir.iterdir()) if len(f.name)>20]\n",
    "spam_filenames = [f for f in sorted(spam_dir.iterdir()) if len(f.name)>20]\n",
    "print(\"Ham files :\", len(ham_filenames))\n",
    "print(\"Spam Files :\" ,len(spam_filenames))\n",
    "\n"
   ]
  },
  {
   "cell_type": "markdown",
   "id": "3c3f7b91",
   "metadata": {
    "id": "hoeACfAh6r2k",
    "papermill": {
     "duration": 0.011822,
     "end_time": "2023-04-25T08:45:35.772763",
     "exception": false,
     "start_time": "2023-04-25T08:45:35.760941",
     "status": "completed"
    },
    "tags": []
   },
   "source": [
    "### Handling Emails"
   ]
  },
  {
   "cell_type": "code",
   "execution_count": 4,
   "id": "5c12f9b4",
   "metadata": {
    "execution": {
     "iopub.execute_input": "2023-04-25T08:45:35.798272Z",
     "iopub.status.busy": "2023-04-25T08:45:35.797811Z",
     "iopub.status.idle": "2023-04-25T08:45:35.804202Z",
     "shell.execute_reply": "2023-04-25T08:45:35.802919Z"
    },
    "id": "ZQdAVrkw6w-Z",
    "papermill": {
     "duration": 0.022203,
     "end_time": "2023-04-25T08:45:35.806798",
     "exception": false,
     "start_time": "2023-04-25T08:45:35.784595",
     "status": "completed"
    },
    "tags": []
   },
   "outputs": [],
   "source": [
    "import email\n",
    "import email.policy \n",
    "\n",
    "def load_email(filepath):\n",
    "    with open(filepath, \"rb\") as f:\n",
    "        return email.parser.BytesParser(policy=email.policy.default).parse(f)"
   ]
  },
  {
   "cell_type": "code",
   "execution_count": 5,
   "id": "950a5290",
   "metadata": {
    "execution": {
     "iopub.execute_input": "2023-04-25T08:45:35.833491Z",
     "iopub.status.busy": "2023-04-25T08:45:35.832641Z",
     "iopub.status.idle": "2023-04-25T08:45:38.795220Z",
     "shell.execute_reply": "2023-04-25T08:45:38.793883Z"
    },
    "id": "x-YJJVll7VfT",
    "papermill": {
     "duration": 2.979471,
     "end_time": "2023-04-25T08:45:38.798142",
     "exception": false,
     "start_time": "2023-04-25T08:45:35.818671",
     "status": "completed"
    },
    "tags": []
   },
   "outputs": [],
   "source": [
    "ham_emails = [load_email(filepath) for filepath in ham_filenames]\n",
    "spam_emails = [load_email(filepath) for filepath in spam_filenames]\n"
   ]
  },
  {
   "cell_type": "markdown",
   "id": "949d160b",
   "metadata": {
    "id": "MDDrp4xUQO8S",
    "papermill": {
     "duration": 0.011413,
     "end_time": "2023-04-25T08:45:38.821773",
     "exception": false,
     "start_time": "2023-04-25T08:45:38.810360",
     "status": "completed"
    },
    "tags": []
   },
   "source": [
    "# EDA"
   ]
  },
  {
   "cell_type": "markdown",
   "id": "f03f062c",
   "metadata": {
    "id": "K2_0xGDb8Sq1",
    "papermill": {
     "duration": 0.011417,
     "end_time": "2023-04-25T08:45:38.844769",
     "exception": false,
     "start_time": "2023-04-25T08:45:38.833352",
     "status": "completed"
    },
    "tags": []
   },
   "source": [
    "### Viewing example mail"
   ]
  },
  {
   "cell_type": "code",
   "execution_count": 6,
   "id": "fb9ca1ec",
   "metadata": {
    "execution": {
     "iopub.execute_input": "2023-04-25T08:45:38.871704Z",
     "iopub.status.busy": "2023-04-25T08:45:38.871223Z",
     "iopub.status.idle": "2023-04-25T08:45:38.879605Z",
     "shell.execute_reply": "2023-04-25T08:45:38.878236Z"
    },
    "id": "k3gHUztG7724",
    "outputId": "50d2fcda-b912-4946-87b6-6c94691fa122",
    "papermill": {
     "duration": 0.025006,
     "end_time": "2023-04-25T08:45:38.882371",
     "exception": false,
     "start_time": "2023-04-25T08:45:38.857365",
     "status": "completed"
    },
    "tags": []
   },
   "outputs": [
    {
     "name": "stdout",
     "output_type": "stream",
     "text": [
      "Return-Path: <Steve_Burt@cursor-system.com>\n",
      "Delivered-To: zzzz@localhost.netnoteinc.com\n",
      "Received: from localhost (localhost [127.0.0.1])\n",
      "\tby phobos.labs.netnoteinc.com (Postfix) with ESMTP id BE12E43C34\n",
      "\tfor <zzzz@localhost>; Thu, 22 Aug 2002 07:46:38 -0400 (EDT)\n",
      "Received: from phobos [127.0.0.1]\n",
      "\tby localhost with IMAP (fetchmail-5.9.0)\n",
      "\tfor zzzz@localhost (single-drop); Thu, 22 Aug 2002 12:46:38 +0100 (IST)\n",
      "Received: from n20.grp.scd.yahoo.com (n20.grp.scd.yahoo.com    [66.218.66.76])\n",
      " by dogma.slashnull.org (8.11.6/8.11.6) with SMTP id    g7MBkTZ05087 for\n",
      " <zzzz@spamassassin.taint.org>; Thu, 22 Aug 2002 12:46:29 +0100\n",
      "X-Egroups-Return: =?utf-8?q?sentto-2242572-52726-1030016790-zzzz=3Dspamassas?=\n",
      " =?utf-8?q?sin=2Etaint=2Eorg=40returns=2Egroups=2Eyahoo=2Ecom?=\n",
      "Received: from [66.218.67.196] by n20.grp.scd.yahoo.com with NNFMP;\n",
      "    22 Aug 2002 11:46:30 -0000\n",
      "X-Sender: steve.burt@cursor-system.com\n",
      "X-Apparently-To: zzzzteana@yahoogroups.com\n",
      "Received: (EGP: mail-8_1_0_1); 22 Aug 2002 11:46:29 -0000\n",
      "Received: (qmail 11764 invoked from network); 22 Aug 2002 11:46:29 -0000\n",
      "Received: from unknown (66.218.66.217) by m3.grp.scd.yahoo.com with QMQP;\n",
      "    22 Aug 2002 11:46:29 -0000\n",
      "Received: from unknown (HELO mailgateway.cursor-system.com) (62.189.7.27)\n",
      "    by mta2.grp.scd.yahoo.com with SMTP; 22 Aug 2002 11:46:29 -0000\n",
      "Received: from exchange1.cps.local (unverified) by\n",
      "    mailgateway.cursor-system.com (Content Technologies SMTPRS 4.2.10) with\n",
      "    ESMTP id <T5cde81f695ac1d100407d@mailgateway.cursor-system.com> for\n",
      "    <forteana@yahoogroups.com>; Thu, 22 Aug 2002 13:14:10 +0100\n",
      "Received: by exchange1.cps.local with Internet Mail Service (5.5.2653.19)\n",
      "    id <PXX6AT23>; Thu, 22 Aug 2002 12:46:27 +0100\n",
      "Message-Id: <5EC2AD6D2314D14FB64BDA287D25D9EF12B4F6@exchange1.cps.local>\n",
      "To: \"'zzzzteana@yahoogroups.com'\" <zzzzteana@yahoogroups.com>\n",
      "X-Mailer: Internet Mail Service (5.5.2653.19)\n",
      "X-Egroups-From: Steve Burt <steve.burt@cursor-system.com>\n",
      "From: Steve Burt <Steve_Burt@cursor-system.com>\n",
      "X-Yahoo-Profile: pyruse\n",
      "MIME-Version: 1.0\n",
      "Mailing-List: list zzzzteana@yahoogroups.com; contact\n",
      "    forteana-owner@yahoogroups.com\n",
      "Delivered-To: mailing list zzzzteana@yahoogroups.com\n",
      "Precedence: bulk\n",
      "List-Unsubscribe: <mailto:zzzzteana-unsubscribe@yahoogroups.com>\n",
      "Date: Thu, 22 Aug 2002 12:46:18 +0100\n",
      "Subject: [zzzzteana] RE: Alexander\n",
      "Reply-To: zzzzteana@yahoogroups.com\n",
      "Content-Type: text/plain; charset=US-ASCII\n",
      "Content-Transfer-Encoding: 7bit\n",
      "\n",
      "Martin A posted:\n",
      "Tassos Papadopoulos, the Greek sculptor behind the plan, judged that the\n",
      " limestone of Mount Kerdylio, 70 miles east of Salonika and not far from the\n",
      " Mount Athos monastic community, was ideal for the patriotic sculpture. \n",
      " \n",
      " As well as Alexander's granite features, 240 ft high and 170 ft wide, a\n",
      " museum, a restored amphitheatre and car park for admiring crowds are\n",
      "planned\n",
      "---------------------\n",
      "So is this mountain limestone or granite?\n",
      "If it's limestone, it'll weather pretty fast.\n",
      "\n",
      "------------------------ Yahoo! Groups Sponsor ---------------------~-->\n",
      "4 DVDs Free +s&p Join Now\n",
      "http://us.click.yahoo.com/pt6YBB/NXiEAA/mG3HAA/7gSolB/TM\n",
      "---------------------------------------------------------------------~->\n",
      "\n",
      "To unsubscribe from this group, send an email to:\n",
      "forteana-unsubscribe@egroups.com\n",
      "\n",
      " \n",
      "\n",
      "Your use of Yahoo! Groups is subject to http://docs.yahoo.com/info/terms/ \n",
      "\n",
      "\n",
      "\n",
      "\n"
     ]
    }
   ],
   "source": [
    "print(ham_emails[1])"
   ]
  },
  {
   "cell_type": "code",
   "execution_count": 7,
   "id": "cfd82f5e",
   "metadata": {
    "execution": {
     "iopub.execute_input": "2023-04-25T08:45:38.908395Z",
     "iopub.status.busy": "2023-04-25T08:45:38.907997Z",
     "iopub.status.idle": "2023-04-25T08:45:38.915396Z",
     "shell.execute_reply": "2023-04-25T08:45:38.913901Z"
    },
    "id": "NhPljLgF8rFJ",
    "outputId": "df284559-58b3-4c61-8bea-f09b2c96f8d7",
    "papermill": {
     "duration": 0.023665,
     "end_time": "2023-04-25T08:45:38.918323",
     "exception": false,
     "start_time": "2023-04-25T08:45:38.894658",
     "status": "completed"
    },
    "tags": []
   },
   "outputs": [
    {
     "name": "stdout",
     "output_type": "stream",
     "text": [
      "Martin A posted:\n",
      "Tassos Papadopoulos, the Greek sculptor behind the plan, judged that the\n",
      " limestone of Mount Kerdylio, 70 miles east of Salonika and not far from the\n",
      " Mount Athos monastic community, was ideal for the patriotic sculpture. \n",
      " \n",
      " As well as Alexander's granite features, 240 ft high and 170 ft wide, a\n",
      " museum, a restored amphitheatre and car park for admiring crowds are\n",
      "planned\n",
      "---------------------\n",
      "So is this mountain limestone or granite?\n",
      "If it's limestone, it'll weather pretty fast.\n",
      "\n",
      "------------------------ Yahoo! Groups Sponsor ---------------------~-->\n",
      "4 DVDs Free +s&p Join Now\n",
      "http://us.click.yahoo.com/pt6YBB/NXiEAA/mG3HAA/7gSolB/TM\n",
      "---------------------------------------------------------------------~->\n",
      "\n",
      "To unsubscribe from this group, send an email to:\n",
      "forteana-unsubscribe@egroups.com\n",
      "\n",
      " \n",
      "\n",
      "Your use of Yahoo! Groups is subject to http://docs.yahoo.com/info/terms/ \n",
      "\n",
      "\n",
      "\n",
      "\n"
     ]
    }
   ],
   "source": [
    "print(ham_emails[1].get_content())"
   ]
  },
  {
   "cell_type": "code",
   "execution_count": 8,
   "id": "c57b1d46",
   "metadata": {
    "execution": {
     "iopub.execute_input": "2023-04-25T08:45:38.945483Z",
     "iopub.status.busy": "2023-04-25T08:45:38.944260Z",
     "iopub.status.idle": "2023-04-25T08:45:38.952482Z",
     "shell.execute_reply": "2023-04-25T08:45:38.950900Z"
    },
    "id": "v-VSkyB386Cw",
    "outputId": "f45d7618-7b01-4391-c31a-8a086c4c2d1f",
    "papermill": {
     "duration": 0.024769,
     "end_time": "2023-04-25T08:45:38.955085",
     "exception": false,
     "start_time": "2023-04-25T08:45:38.930316",
     "status": "completed"
    },
    "tags": []
   },
   "outputs": [
    {
     "name": "stdout",
     "output_type": "stream",
     "text": [
      "Martin A posted:\n",
      "Tassos Papadopoulos, the Greek sculptor behind the plan, judged that the\n",
      " limestone of Mount Kerdylio, 70 miles east of Salonika and not far from the\n",
      " Mount Athos monastic community, was ideal for the patriotic sculpture. \n",
      " \n",
      " As well as Alexander's granite features, 240 ft high and 170 ft wide, a\n",
      " museum, a restored amphitheatre and car park for admiring crowds are\n",
      "planned\n",
      "---------------------\n",
      "So is this mountain limestone or granite?\n",
      "If it's limestone, it'll weather pretty fast.\n",
      "\n",
      "------------------------ Yahoo! Groups Sponsor ---------------------~-->\n",
      "4 DVDs Free +s&p Join Now\n",
      "http://us.click.yahoo.com/pt6YBB/NXiEAA/mG3HAA/7gSolB/TM\n",
      "---------------------------------------------------------------------~->\n",
      "\n",
      "To unsubscribe from this group, send an email to:\n",
      "forteana-unsubscribe@egroups.com\n",
      "\n",
      " \n",
      "\n",
      "Your use of Yahoo! Groups is subject to http://docs.yahoo.com/info/terms/\n"
     ]
    }
   ],
   "source": [
    "print(ham_emails[1].get_content().strip())"
   ]
  },
  {
   "cell_type": "code",
   "execution_count": 9,
   "id": "98cf9dfe",
   "metadata": {
    "execution": {
     "iopub.execute_input": "2023-04-25T08:45:38.981448Z",
     "iopub.status.busy": "2023-04-25T08:45:38.981024Z",
     "iopub.status.idle": "2023-04-25T08:45:38.988287Z",
     "shell.execute_reply": "2023-04-25T08:45:38.986904Z"
    },
    "id": "hqKsTghc-XMc",
    "outputId": "89d574ab-5009-463a-fb1d-d0ae56558f57",
    "papermill": {
     "duration": 0.023832,
     "end_time": "2023-04-25T08:45:38.991111",
     "exception": false,
     "start_time": "2023-04-25T08:45:38.967279",
     "status": "completed"
    },
    "tags": []
   },
   "outputs": [
    {
     "name": "stdout",
     "output_type": "stream",
     "text": [
      "1) Fight The Risk of Cancer!\n",
      "http://www.adclick.ws/p.cfm?o=315&s=pk007\n",
      "\n",
      "2) Slim Down - Guaranteed to lose 10-12 lbs in 30 days\n",
      "http://www.adclick.ws/p.cfm?o=249&s=pk007\n",
      "\n",
      "3) Get the Child Support You Deserve - Free Legal Advice\n",
      "http://www.adclick.ws/p.cfm?o=245&s=pk002\n",
      "\n",
      "4) Join the Web's Fastest Growing Singles Community\n",
      "http://www.adclick.ws/p.cfm?o=259&s=pk007\n",
      "\n",
      "5) Start Your Private Photo Album Online!\n",
      "http://www.adclick.ws/p.cfm?o=283&s=pk007\n",
      "\n",
      "Have a Wonderful Day,\n",
      "Offer Manager\n",
      "PrizeMama\n",
      "\n",
      "\n",
      "\n",
      "\n",
      "\n",
      "\n",
      "\n",
      "\n",
      "\n",
      "\n",
      "\n",
      "\n",
      "\n",
      "If you wish to leave this list please use the link below.\n",
      "http://www.qves.com/trim/?zzzz@spamassassin.taint.org%7C17%7C308417\n"
     ]
    }
   ],
   "source": [
    "print(spam_emails[2].get_content().strip())"
   ]
  },
  {
   "cell_type": "markdown",
   "id": "49a74dbb",
   "metadata": {
    "id": "1ayc0r69-1ZN",
    "papermill": {
     "duration": 0.011907,
     "end_time": "2023-04-25T08:45:39.015195",
     "exception": false,
     "start_time": "2023-04-25T08:45:39.003288",
     "status": "completed"
    },
    "tags": []
   },
   "source": [
    "Some emails are actually multipart, with images and attachments (which can have their own attachments). Let's look at the various types of structures we have:\n",
    "\n"
   ]
  },
  {
   "cell_type": "markdown",
   "id": "10e015c9",
   "metadata": {
    "id": "PuTr9_lf-2cf",
    "papermill": {
     "duration": 0.012809,
     "end_time": "2023-04-25T08:45:39.040593",
     "exception": false,
     "start_time": "2023-04-25T08:45:39.027784",
     "status": "completed"
    },
    "tags": []
   },
   "source": [
    "### Email types and Structure"
   ]
  },
  {
   "cell_type": "code",
   "execution_count": 10,
   "id": "fa910fb5",
   "metadata": {
    "execution": {
     "iopub.execute_input": "2023-04-25T08:45:39.067308Z",
     "iopub.status.busy": "2023-04-25T08:45:39.066622Z",
     "iopub.status.idle": "2023-04-25T08:45:39.073832Z",
     "shell.execute_reply": "2023-04-25T08:45:39.072641Z"
    },
    "id": "ctUD914a--pF",
    "papermill": {
     "duration": 0.023884,
     "end_time": "2023-04-25T08:45:39.076592",
     "exception": false,
     "start_time": "2023-04-25T08:45:39.052708",
     "status": "completed"
    },
    "tags": []
   },
   "outputs": [],
   "source": [
    "def get_email_structure(email):\n",
    "    if isinstance(email, str):\n",
    "        return email\n",
    "    payload = email.get_payload()\n",
    "    if isinstance(payload, list):\n",
    "        multipart = \", \".join([get_email_structure(sub_email) for sub_email in payload])\n",
    "        return F\"multipart({multipart})\"\n",
    "    else:\n",
    "        return email.get_content_type()\n",
    "\n",
    "from collections import Counter\n",
    "\n",
    "def structures_counter(emails):\n",
    "    structures = Counter()\n",
    "    for email in emails:\n",
    "        structure = get_email_structure(email)\n",
    "        structures[structure] += 1\n",
    "    return structures \n",
    "\n",
    "\n",
    "\n"
   ]
  },
  {
   "cell_type": "code",
   "execution_count": 11,
   "id": "cb241d15",
   "metadata": {
    "execution": {
     "iopub.execute_input": "2023-04-25T08:45:39.103576Z",
     "iopub.status.busy": "2023-04-25T08:45:39.103045Z",
     "iopub.status.idle": "2023-04-25T08:45:39.485081Z",
     "shell.execute_reply": "2023-04-25T08:45:39.483632Z"
    },
    "id": "NxjrJWZ-Kpjz",
    "outputId": "040a6503-ef41-4d97-d701-b587ad905c3a",
    "papermill": {
     "duration": 0.399219,
     "end_time": "2023-04-25T08:45:39.488019",
     "exception": false,
     "start_time": "2023-04-25T08:45:39.088800",
     "status": "completed"
    },
    "tags": []
   },
   "outputs": [
    {
     "data": {
      "text/plain": [
       "[('text/plain', 2408),\n",
       " ('multipart(text/plain, application/pgp-signature)', 66),\n",
       " ('multipart(text/plain, text/html)', 8),\n",
       " ('multipart(text/plain, text/plain)', 4),\n",
       " ('multipart(text/plain)', 3),\n",
       " ('multipart(text/plain, application/octet-stream)', 2),\n",
       " ('multipart(text/plain, text/enriched)', 1),\n",
       " ('multipart(text/plain, application/ms-tnef, text/plain)', 1),\n",
       " ('multipart(multipart(text/plain, text/plain, text/plain), application/pgp-signature)',\n",
       "  1),\n",
       " ('multipart(text/plain, video/mng)', 1),\n",
       " ('multipart(text/plain, multipart(text/plain))', 1),\n",
       " ('multipart(text/plain, application/x-pkcs7-signature)', 1),\n",
       " ('multipart(text/plain, multipart(text/plain, text/plain), text/rfc822-headers)',\n",
       "  1),\n",
       " ('multipart(text/plain, multipart(text/plain, text/plain), multipart(multipart(text/plain, application/x-pkcs7-signature)))',\n",
       "  1),\n",
       " ('multipart(text/plain, application/x-java-applet)', 1)]"
      ]
     },
     "execution_count": 11,
     "metadata": {},
     "output_type": "execute_result"
    }
   ],
   "source": [
    "structures_counter(ham_emails).most_common()\n"
   ]
  },
  {
   "cell_type": "code",
   "execution_count": 12,
   "id": "d8cce269",
   "metadata": {
    "execution": {
     "iopub.execute_input": "2023-04-25T08:45:39.515890Z",
     "iopub.status.busy": "2023-04-25T08:45:39.514765Z",
     "iopub.status.idle": "2023-04-25T08:45:39.649940Z",
     "shell.execute_reply": "2023-04-25T08:45:39.648710Z"
    },
    "id": "y4nGVGE-KrXO",
    "outputId": "b46d54b7-a30d-4b7e-f7e4-9e29fe2d22eb",
    "papermill": {
     "duration": 0.151824,
     "end_time": "2023-04-25T08:45:39.652697",
     "exception": false,
     "start_time": "2023-04-25T08:45:39.500873",
     "status": "completed"
    },
    "tags": []
   },
   "outputs": [
    {
     "data": {
      "text/plain": [
       "[('text/plain', 218),\n",
       " ('text/html', 183),\n",
       " ('multipart(text/plain, text/html)', 45),\n",
       " ('multipart(text/html)', 20),\n",
       " ('multipart(text/plain)', 19),\n",
       " ('multipart(multipart(text/html))', 5),\n",
       " ('multipart(text/plain, image/jpeg)', 3),\n",
       " ('multipart(text/html, application/octet-stream)', 2),\n",
       " ('multipart(text/plain, application/octet-stream)', 1),\n",
       " ('multipart(text/html, text/plain)', 1),\n",
       " ('multipart(multipart(text/html), application/octet-stream, image/jpeg)', 1),\n",
       " ('multipart(multipart(text/plain, text/html), image/gif)', 1),\n",
       " ('multipart/alternative', 1)]"
      ]
     },
     "execution_count": 12,
     "metadata": {},
     "output_type": "execute_result"
    }
   ],
   "source": [
    "structures_counter(spam_emails).most_common()\n"
   ]
  },
  {
   "cell_type": "markdown",
   "id": "7a0f2030",
   "metadata": {
    "id": "Aq9393JoK2li",
    "papermill": {
     "duration": 0.012856,
     "end_time": "2023-04-25T08:45:39.678719",
     "exception": false,
     "start_time": "2023-04-25T08:45:39.665863",
     "status": "completed"
    },
    "tags": []
   },
   "source": [
    "It seems that the ham emails are more often plain text, while spam has quite a lot of HTML. \n",
    "\n",
    "Moreover, quite a few ham emails are signed using PGP, while no spam is.  The email structure is useful information to have."
   ]
  },
  {
   "cell_type": "markdown",
   "id": "262462d3",
   "metadata": {
    "id": "vSGDdmJ2LHRd",
    "papermill": {
     "duration": 0.012766,
     "end_time": "2023-04-25T08:45:39.704267",
     "exception": false,
     "start_time": "2023-04-25T08:45:39.691501",
     "status": "completed"
    },
    "tags": []
   },
   "source": [
    "### Email Headers"
   ]
  },
  {
   "cell_type": "code",
   "execution_count": 13,
   "id": "ff45c85e",
   "metadata": {
    "execution": {
     "iopub.execute_input": "2023-04-25T08:45:39.733843Z",
     "iopub.status.busy": "2023-04-25T08:45:39.733141Z",
     "iopub.status.idle": "2023-04-25T08:45:39.744810Z",
     "shell.execute_reply": "2023-04-25T08:45:39.743320Z"
    },
    "id": "1sTu2lQrLJml",
    "outputId": "5f8f7074-6baf-4b9d-9001-7d431be88cf9",
    "papermill": {
     "duration": 0.030752,
     "end_time": "2023-04-25T08:45:39.748305",
     "exception": false,
     "start_time": "2023-04-25T08:45:39.717553",
     "status": "completed"
    },
    "tags": []
   },
   "outputs": [
    {
     "name": "stdout",
     "output_type": "stream",
     "text": [
      "Return-Path : <12a1mailbot1@web.de>\n",
      "Delivered-To : zzzz@localhost.spamassassin.taint.org\n",
      "Received : from localhost (localhost [127.0.0.1])\tby phobos.labs.spamassassin.taint.org (Postfix) with ESMTP id 136B943C32\tfor <zzzz@localhost>; Thu, 22 Aug 2002 08:17:21 -0400 (EDT)\n",
      "Received : from mail.webnote.net [193.120.211.219]\tby localhost with POP3 (fetchmail-5.9.0)\tfor zzzz@localhost (single-drop); Thu, 22 Aug 2002 13:17:21 +0100 (IST)\n",
      "Received : from dd_it7 ([210.97.77.167])\tby webnote.net (8.9.3/8.9.3) with ESMTP id NAA04623\tfor <zzzz@spamassassin.taint.org>; Thu, 22 Aug 2002 13:09:41 +0100\n",
      "From : 12a1mailbot1@web.de\n",
      "Received : from r-smtp.korea.com - 203.122.2.197 by dd_it7  with Microsoft SMTPSVC(5.5.1775.675.6);\t Sat, 24 Aug 2002 09:42:10 +0900\n",
      "To : dcek1a1@netsgo.com\n",
      "Subject : Life Insurance - Why Pay More?\n",
      "Date : Wed, 21 Aug 2002 20:31:57 -1600\n",
      "MIME-Version : 1.0\n",
      "Message-ID : <0103c1042001882DD_IT7@dd_it7>\n",
      "Content-Type : text/html; charset=\"iso-8859-1\"\n",
      "Content-Transfer-Encoding : quoted-printable\n"
     ]
    }
   ],
   "source": [
    "for header, value in spam_emails[0].items():\n",
    "    print(header, \":\", value)\n"
   ]
  },
  {
   "cell_type": "markdown",
   "id": "fed650e1",
   "metadata": {
    "id": "DfWMohjrMa9e",
    "papermill": {
     "duration": 0.012512,
     "end_time": "2023-04-25T08:45:39.773951",
     "exception": false,
     "start_time": "2023-04-25T08:45:39.761439",
     "status": "completed"
    },
    "tags": []
   },
   "source": [
    "There's probably a lot of useful information in there, such as the sender's email address (12a1mailbot1@web.de looks fishy), but we will just focus on the Subject header:"
   ]
  },
  {
   "cell_type": "code",
   "execution_count": 14,
   "id": "7db3b8aa",
   "metadata": {
    "execution": {
     "iopub.execute_input": "2023-04-25T08:45:39.801773Z",
     "iopub.status.busy": "2023-04-25T08:45:39.801342Z",
     "iopub.status.idle": "2023-04-25T08:45:39.807771Z",
     "shell.execute_reply": "2023-04-25T08:45:39.806862Z"
    },
    "id": "-KsSRkm7MnyW",
    "outputId": "1e7fc83c-e266-42e8-c87c-d30e3ae230cc",
    "papermill": {
     "duration": 0.023185,
     "end_time": "2023-04-25T08:45:39.810075",
     "exception": false,
     "start_time": "2023-04-25T08:45:39.786890",
     "status": "completed"
    },
    "tags": []
   },
   "outputs": [
    {
     "data": {
      "text/plain": [
       "email.message.EmailMessage"
      ]
     },
     "execution_count": 14,
     "metadata": {},
     "output_type": "execute_result"
    }
   ],
   "source": [
    "type(spam_emails[0])"
   ]
  },
  {
   "cell_type": "code",
   "execution_count": 15,
   "id": "a878d31a",
   "metadata": {
    "execution": {
     "iopub.execute_input": "2023-04-25T08:45:39.838853Z",
     "iopub.status.busy": "2023-04-25T08:45:39.837884Z",
     "iopub.status.idle": "2023-04-25T08:45:39.846271Z",
     "shell.execute_reply": "2023-04-25T08:45:39.845127Z"
    },
    "id": "c68djR2zMbti",
    "outputId": "80976366-a9fa-49d7-d5dc-bcdba3379fb3",
    "papermill": {
     "duration": 0.025665,
     "end_time": "2023-04-25T08:45:39.848797",
     "exception": false,
     "start_time": "2023-04-25T08:45:39.823132",
     "status": "completed"
    },
    "tags": []
   },
   "outputs": [
    {
     "data": {
      "text/plain": [
       "'Life Insurance - Why Pay More?'"
      ]
     },
     "execution_count": 15,
     "metadata": {},
     "output_type": "execute_result"
    }
   ],
   "source": [
    "spam_emails[0][\"Subject\"]"
   ]
  },
  {
   "cell_type": "markdown",
   "id": "815e0496",
   "metadata": {
    "id": "0fexPR7hOQe0",
    "papermill": {
     "duration": 0.012723,
     "end_time": "2023-04-25T08:45:39.874674",
     "exception": false,
     "start_time": "2023-04-25T08:45:39.861951",
     "status": "completed"
    },
    "tags": []
   },
   "source": [
    "# Train-Test Split"
   ]
  },
  {
   "cell_type": "code",
   "execution_count": 16,
   "id": "b8b06b4c",
   "metadata": {
    "execution": {
     "iopub.execute_input": "2023-04-25T08:45:39.904783Z",
     "iopub.status.busy": "2023-04-25T08:45:39.903963Z",
     "iopub.status.idle": "2023-04-25T08:45:41.012325Z",
     "shell.execute_reply": "2023-04-25T08:45:41.010919Z"
    },
    "id": "Iuq8GDBzOP7t",
    "papermill": {
     "duration": 1.12628,
     "end_time": "2023-04-25T08:45:41.015299",
     "exception": false,
     "start_time": "2023-04-25T08:45:39.889019",
     "status": "completed"
    },
    "tags": []
   },
   "outputs": [],
   "source": [
    "import numpy as np\n",
    "from sklearn.model_selection import train_test_split\n",
    "\n",
    "X = np.array(ham_emails + spam_emails, dtype=object)\n",
    "y = np.array([0]*len(ham_emails) + [1]*len(spam_emails))\n",
    "\n",
    "X_train, X_test, y_train, y_test = train_test_split(X, y, test_size=0.2, random_state=42)\n",
    "\n",
    "\n"
   ]
  },
  {
   "cell_type": "markdown",
   "id": "1573f7c2",
   "metadata": {
    "id": "JKyCle5xQT4z",
    "papermill": {
     "duration": 0.014312,
     "end_time": "2023-04-25T08:45:41.043531",
     "exception": false,
     "start_time": "2023-04-25T08:45:41.029219",
     "status": "completed"
    },
    "tags": []
   },
   "source": [
    "# Preprocessing"
   ]
  },
  {
   "cell_type": "markdown",
   "id": "9d90a5fd",
   "metadata": {
    "id": "7zm-1AWjOK2D",
    "papermill": {
     "duration": 0.013436,
     "end_time": "2023-04-25T08:45:41.070168",
     "exception": false,
     "start_time": "2023-04-25T08:45:41.056732",
     "status": "completed"
    },
    "tags": []
   },
   "source": [
    "First, we will need a function to convert HTML to plain text.\n",
    "\n",
    " Arguably the best way to do this would be to use the great [BeautifulSoup](https://www.crummy.com/software/BeautifulSoup/) library, but I would like to avoid adding another dependency to this project, so let's hack a quick & dirty solution using regular expressions . \n",
    " \n",
    "The following function first drops the `<head>` section, then converts all `<a>` tags to the word HYPERLINK, then it gets rid of all HTML tags, leaving only the plain text. \n",
    "\n",
    "For readability, it also replaces multiple newlines with single newlines, and finally it unescapes html entities (such as `&gt;` or `&nbsp;`):"
   ]
  },
  {
   "cell_type": "code",
   "execution_count": 17,
   "id": "94abb2f6",
   "metadata": {
    "execution": {
     "iopub.execute_input": "2023-04-25T08:45:41.099954Z",
     "iopub.status.busy": "2023-04-25T08:45:41.099531Z",
     "iopub.status.idle": "2023-04-25T08:45:41.107288Z",
     "shell.execute_reply": "2023-04-25T08:45:41.105879Z"
    },
    "id": "1Mfy535vPq2p",
    "papermill": {
     "duration": 0.025714,
     "end_time": "2023-04-25T08:45:41.110108",
     "exception": false,
     "start_time": "2023-04-25T08:45:41.084394",
     "status": "completed"
    },
    "tags": []
   },
   "outputs": [],
   "source": [
    "import re\n",
    "from html import unescape\n",
    "\n",
    "def html_to_plain_text(html):\n",
    "    text = re.sub('<head.*?>.*?</head>', '', html, flags=re.M | re.S | re.I)\n",
    "    text = re.sub('<a\\s.*?>', ' HYPERLINK ', text, flags=re.M | re.S | re.I)\n",
    "    text = re.sub('<.*?>', '', text, flags=re.M | re.S)\n",
    "    text = re.sub(r'(\\s*\\n)+', '\\n', text, flags=re.M | re.S)\n",
    "    return unescape(text)"
   ]
  },
  {
   "cell_type": "markdown",
   "id": "6807052e",
   "metadata": {
    "id": "07Yn3UkhP7C1",
    "papermill": {
     "duration": 0.013274,
     "end_time": "2023-04-25T08:45:41.137026",
     "exception": false,
     "start_time": "2023-04-25T08:45:41.123752",
     "status": "completed"
    },
    "tags": []
   },
   "source": [
    "Checking the code working"
   ]
  },
  {
   "cell_type": "code",
   "execution_count": 18,
   "id": "041db6c2",
   "metadata": {
    "execution": {
     "iopub.execute_input": "2023-04-25T08:45:41.166274Z",
     "iopub.status.busy": "2023-04-25T08:45:41.165785Z",
     "iopub.status.idle": "2023-04-25T08:45:41.273008Z",
     "shell.execute_reply": "2023-04-25T08:45:41.271426Z"
    },
    "id": "qbvrFBLbP5uF",
    "outputId": "79c4c778-d098-4455-f043-883e2ee6404e",
    "papermill": {
     "duration": 0.125283,
     "end_time": "2023-04-25T08:45:41.275755",
     "exception": false,
     "start_time": "2023-04-25T08:45:41.150472",
     "status": "completed"
    },
    "tags": []
   },
   "outputs": [
    {
     "name": "stdout",
     "output_type": "stream",
     "text": [
      "<HTML><HEAD><TITLE></TITLE><META http-equiv=\"Content-Type\" content=\"text/html; charset=windows-1252\"><STYLE>A:link {TEX-DECORATION: none}A:active {TEXT-DECORATION: none}A:visited {TEXT-DECORATION: none}A:hover {COLOR: #0033ff; TEXT-DECORATION: underline}</STYLE><META content=\"MSHTML 6.00.2713.1100\" name=\"GENERATOR\"></HEAD>\n",
      "<BODY text=\"#000000\" vLink=\"#0033ff\" link=\"#0033ff\" bgColor=\"#CCCC99\"><TABLE borderColor=\"#660000\" cellSpacing=\"0\" cellPadding=\"0\" border=\"0\" width=\"100%\"><TR><TD bgColor=\"#CCCC99\" valign=\"top\" colspan=\"2\" height=\"27\">\n",
      "<font size=\"6\" face=\"Arial, Helvetica, sans-serif\" color=\"#660000\">\n",
      "<b>OTC</b></font></TD></TR><TR><TD height=\"2\" bgcolor=\"#6a694f\">\n",
      "<font size=\"5\" face=\"Times New Roman, Times, serif\" color=\"#FFFFFF\">\n",
      "<b>&nbsp;Newsletter</b></font></TD><TD height=\"2\" bgcolor=\"#6a694f\"><div align=\"right\"><font color=\"#FFFFFF\">\n",
      "<b>Discover Tomorrow's Winners&nbsp;</b></font></div></TD></TR><TR><TD height=\"25\" colspan=\"2\" bgcolor=\"#CCCC99\"><table width=\"100%\" border=\"0\"  ...\n"
     ]
    }
   ],
   "source": [
    "html_spam_emails = [email for email in X_train[y_train==1]\n",
    "                    if get_email_structure(email) == \"text/html\"]\n",
    "sample_html_spam = html_spam_emails[7]\n",
    "print(sample_html_spam.get_content().strip()[:1000], \"...\")"
   ]
  },
  {
   "cell_type": "markdown",
   "id": "fd4337cd",
   "metadata": {
    "id": "R0-X_YBxQOXf",
    "papermill": {
     "duration": 0.013122,
     "end_time": "2023-04-25T08:45:41.302514",
     "exception": false,
     "start_time": "2023-04-25T08:45:41.289392",
     "status": "completed"
    },
    "tags": []
   },
   "source": [
    "Plain Text : "
   ]
  },
  {
   "cell_type": "code",
   "execution_count": 19,
   "id": "37f14798",
   "metadata": {
    "execution": {
     "iopub.execute_input": "2023-04-25T08:45:41.331169Z",
     "iopub.status.busy": "2023-04-25T08:45:41.330760Z",
     "iopub.status.idle": "2023-04-25T08:45:41.339100Z",
     "shell.execute_reply": "2023-04-25T08:45:41.337473Z"
    },
    "id": "NMecrXVWQQ4R",
    "outputId": "6c79f795-a8ca-46a7-9a93-aa73d6ace281",
    "papermill": {
     "duration": 0.025844,
     "end_time": "2023-04-25T08:45:41.341635",
     "exception": false,
     "start_time": "2023-04-25T08:45:41.315791",
     "status": "completed"
    },
    "tags": []
   },
   "outputs": [
    {
     "name": "stdout",
     "output_type": "stream",
     "text": [
      "\n",
      "OTC\n",
      " Newsletter\n",
      "Discover Tomorrow's Winners \n",
      "For Immediate Release\n",
      "Cal-Bay (Stock Symbol: CBYI)\n",
      "Watch for analyst \"Strong Buy Recommendations\" and several advisory newsletters picking CBYI.  CBYI has filed to be traded on the OTCBB, share prices historically INCREASE when companies get listed on this larger trading exchange. CBYI is trading around 25 cents and should skyrocket to $2.66 - $3.25 a share in the near future.\n",
      "Put CBYI on your watch list, acquire a position TODAY.\n",
      "REASONS TO INVEST IN CBYI\n",
      "A profitable company and is on track to beat ALL earnings estimates!\n",
      "One of the FASTEST growing distributors in environmental & safety equipment instruments.\n",
      "Excellent management team, several EXCLUSIVE contracts.  IMPRESSIVE client list including the U.S. Air Force, Anheuser-Busch, Chevron Refining and Mitsubishi Heavy Industries, GE-Energy & Environmental Research.\n",
      "RAPIDLY GROWING INDUSTRY\n",
      "Industry revenues exceed $900 million, estimates indicate that there could be as much as $25 billi ...\n"
     ]
    }
   ],
   "source": [
    "print(html_to_plain_text(sample_html_spam.get_content())[:1000], \"...\")"
   ]
  },
  {
   "cell_type": "markdown",
   "id": "3cd37a2d",
   "metadata": {
    "id": "KOLrwqTtQrQy",
    "papermill": {
     "duration": 0.013312,
     "end_time": "2023-04-25T08:45:41.368848",
     "exception": false,
     "start_time": "2023-04-25T08:45:41.355536",
     "status": "completed"
    },
    "tags": []
   },
   "source": [
    "A function that takes an email as input and returns its content as plain text, whatever its format is:"
   ]
  },
  {
   "cell_type": "code",
   "execution_count": 20,
   "id": "1ed7c7df",
   "metadata": {
    "execution": {
     "iopub.execute_input": "2023-04-25T08:45:41.399097Z",
     "iopub.status.busy": "2023-04-25T08:45:41.397627Z",
     "iopub.status.idle": "2023-04-25T08:45:41.406961Z",
     "shell.execute_reply": "2023-04-25T08:45:41.405348Z"
    },
    "id": "gA4h7pb9Qw_r",
    "papermill": {
     "duration": 0.027593,
     "end_time": "2023-04-25T08:45:41.409928",
     "exception": false,
     "start_time": "2023-04-25T08:45:41.382335",
     "status": "completed"
    },
    "tags": []
   },
   "outputs": [],
   "source": [
    "def email_to_text(email):\n",
    "    html = None\n",
    "    for part in email.walk():\n",
    "        ctype = part.get_content_type()\n",
    "        if not ctype in (\"text/plain\", \"text/html\"):\n",
    "            continue\n",
    "        try:\n",
    "            content = part.get_content()\n",
    "        except: # in case of encoding issues\n",
    "            content = str(part.get_payload())\n",
    "        if ctype == \"text/plain\":\n",
    "            return content\n",
    "        else:\n",
    "            html = content\n",
    "    if html:\n",
    "        return html_to_plain_text(html)"
   ]
  },
  {
   "cell_type": "code",
   "execution_count": 21,
   "id": "c46b52e0",
   "metadata": {
    "execution": {
     "iopub.execute_input": "2023-04-25T08:45:41.440629Z",
     "iopub.status.busy": "2023-04-25T08:45:41.440156Z",
     "iopub.status.idle": "2023-04-25T08:45:41.447814Z",
     "shell.execute_reply": "2023-04-25T08:45:41.446429Z"
    },
    "id": "iTcvrmG8Q7wB",
    "outputId": "18c9b160-6099-4412-9d00-7bc2269f1408",
    "papermill": {
     "duration": 0.027072,
     "end_time": "2023-04-25T08:45:41.450963",
     "exception": false,
     "start_time": "2023-04-25T08:45:41.423891",
     "status": "completed"
    },
    "tags": []
   },
   "outputs": [
    {
     "name": "stdout",
     "output_type": "stream",
     "text": [
      "\n",
      "OTC\n",
      " Newsletter\n",
      "Discover Tomorrow's Winners \n",
      "For Immediate Release\n",
      "Cal-Bay (Stock Symbol: CBYI)\n",
      "Wat ...\n"
     ]
    }
   ],
   "source": [
    "print(email_to_text(sample_html_spam)[:100], \"...\")"
   ]
  },
  {
   "cell_type": "markdown",
   "id": "4b8298f1",
   "metadata": {
    "id": "BpQPsFGOTJax",
    "papermill": {
     "duration": 0.013724,
     "end_time": "2023-04-25T08:45:41.478954",
     "exception": false,
     "start_time": "2023-04-25T08:45:41.465230",
     "status": "completed"
    },
    "tags": []
   },
   "source": [
    "Let's throw in some stemming! We will use the Natural Language Toolkit ([NLTK](http://www.nltk.org/)):"
   ]
  },
  {
   "cell_type": "code",
   "execution_count": 22,
   "id": "7b4671f3",
   "metadata": {
    "execution": {
     "iopub.execute_input": "2023-04-25T08:45:41.509294Z",
     "iopub.status.busy": "2023-04-25T08:45:41.508850Z",
     "iopub.status.idle": "2023-04-25T08:45:42.134763Z",
     "shell.execute_reply": "2023-04-25T08:45:42.133140Z"
    },
    "id": "1_5_isSWTKLV",
    "outputId": "4ab27093-f9d4-4a84-bcc7-b55675248456",
    "papermill": {
     "duration": 0.644617,
     "end_time": "2023-04-25T08:45:42.137746",
     "exception": false,
     "start_time": "2023-04-25T08:45:41.493129",
     "status": "completed"
    },
    "tags": []
   },
   "outputs": [
    {
     "name": "stdout",
     "output_type": "stream",
     "text": [
      "Computations => comput\n",
      "Computation => comput\n",
      "Computing => comput\n",
      "Computed => comput\n",
      "Compute => comput\n",
      "Compulsive => compuls\n"
     ]
    }
   ],
   "source": [
    "import nltk\n",
    "\n",
    "stemmer = nltk.PorterStemmer()\n",
    "for word in (\"Computations\", \"Computation\", \"Computing\", \"Computed\", \"Compute\",\n",
    "             \"Compulsive\"):\n",
    "    print(word, \"=>\", stemmer.stem(word))"
   ]
  },
  {
   "cell_type": "markdown",
   "id": "4a14a258",
   "metadata": {
    "id": "5rS72FUZTamg",
    "papermill": {
     "duration": 0.013418,
     "end_time": "2023-04-25T08:45:42.165168",
     "exception": false,
     "start_time": "2023-04-25T08:45:42.151750",
     "status": "completed"
    },
    "tags": []
   },
   "source": [
    "We will also need a way to replace URLs with the word \"URL\". For this, we could use hard core [regular expressions](https://mathiasbynens.be/demo/url-regex) but we will just use the [urlextract](https://github.com/lipoja/URLExtract) library:"
   ]
  },
  {
   "cell_type": "code",
   "execution_count": 23,
   "id": "0d3c34ee",
   "metadata": {
    "execution": {
     "iopub.execute_input": "2023-04-25T08:45:42.195616Z",
     "iopub.status.busy": "2023-04-25T08:45:42.194251Z",
     "iopub.status.idle": "2023-04-25T08:45:55.071066Z",
     "shell.execute_reply": "2023-04-25T08:45:55.069362Z"
    },
    "id": "5FLUp5fdTjmu",
    "papermill": {
     "duration": 12.895087,
     "end_time": "2023-04-25T08:45:55.074034",
     "exception": false,
     "start_time": "2023-04-25T08:45:42.178947",
     "status": "completed"
    },
    "tags": []
   },
   "outputs": [
    {
     "name": "stdout",
     "output_type": "stream",
     "text": [
      "\u001b[33mWARNING: Running pip as the 'root' user can result in broken permissions and conflicting behaviour with the system package manager. It is recommended to use a virtual environment instead: https://pip.pypa.io/warnings/venv\u001b[0m\u001b[33m\r\n",
      "\u001b[0mNote: you may need to restart the kernel to use updated packages.\n"
     ]
    }
   ],
   "source": [
    "# Is this notebook running on Colab or Kaggle?\n",
    "import sys\n",
    "IS_COLAB = \"google.colab\" in sys.modules\n",
    "IS_KAGGLE = \"kaggle_secrets\" in sys.modules\n",
    "\n",
    "# if running this notebook on Colab or Kaggle, we just pip install urlextract\n",
    "if IS_COLAB or IS_KAGGLE:\n",
    "    %pip install -q -U urlextract"
   ]
  },
  {
   "cell_type": "code",
   "execution_count": 24,
   "id": "50d49695",
   "metadata": {
    "execution": {
     "iopub.execute_input": "2023-04-25T08:45:55.106870Z",
     "iopub.status.busy": "2023-04-25T08:45:55.105912Z",
     "iopub.status.idle": "2023-04-25T08:45:55.412719Z",
     "shell.execute_reply": "2023-04-25T08:45:55.411475Z"
    },
    "id": "_DBHDA4RUCgz",
    "outputId": "4c53949f-1c06-4f32-bd0e-b21f6afbe47d",
    "papermill": {
     "duration": 0.326253,
     "end_time": "2023-04-25T08:45:55.415536",
     "exception": false,
     "start_time": "2023-04-25T08:45:55.089283",
     "status": "completed"
    },
    "tags": []
   },
   "outputs": [
    {
     "name": "stdout",
     "output_type": "stream",
     "text": [
      "['github.com', 'https://youtu.be/7Pq-S557XQU?t=3m32s']\n"
     ]
    }
   ],
   "source": [
    "import urlextract\n",
    "\n",
    "\n",
    "url_extractor = urlextract.URLExtract()\n",
    "some_text = \"Will it detect github.com and https://youtu.be/7Pq-S557XQU?t=3m32s\"\n",
    "print(url_extractor.find_urls(some_text))"
   ]
  },
  {
   "cell_type": "markdown",
   "id": "e2fa04d7",
   "metadata": {
    "id": "-uDtCvDcUh1O",
    "papermill": {
     "duration": 0.014012,
     "end_time": "2023-04-25T08:45:55.443948",
     "exception": false,
     "start_time": "2023-04-25T08:45:55.429936",
     "status": "completed"
    },
    "tags": []
   },
   "source": [
    "We are ready to put all this together into a transformer that we will use to convert emails to word counters. Note that we split sentences into words using Python's `split()` method, which uses whitespaces for word boundaries. This works for many written languages, but not all. For example, Chinese and Japanese scripts generally don't use spaces between words, and Vietnamese often uses spaces even between syllables. It's okay in this exercise, because the dataset is (mostly) in English."
   ]
  },
  {
   "cell_type": "code",
   "execution_count": 25,
   "id": "e9d8bd83",
   "metadata": {
    "execution": {
     "iopub.execute_input": "2023-04-25T08:45:55.474299Z",
     "iopub.status.busy": "2023-04-25T08:45:55.473854Z",
     "iopub.status.idle": "2023-04-25T08:45:55.486877Z",
     "shell.execute_reply": "2023-04-25T08:45:55.485615Z"
    },
    "id": "KpmlxCZ-VMad",
    "papermill": {
     "duration": 0.031132,
     "end_time": "2023-04-25T08:45:55.489350",
     "exception": false,
     "start_time": "2023-04-25T08:45:55.458218",
     "status": "completed"
    },
    "tags": []
   },
   "outputs": [],
   "source": [
    "from sklearn.base import BaseEstimator, TransformerMixin\n",
    "\n",
    "class EmailToWordCounterTransformer(BaseEstimator, TransformerMixin):\n",
    "    def __init__(self, strip_headers=True, lower_case=True,\n",
    "                 remove_punctuation=True, replace_urls=True,\n",
    "                 replace_numbers=True, stemming=True):\n",
    "        self.strip_headers = strip_headers\n",
    "        self.lower_case = lower_case\n",
    "        self.remove_punctuation = remove_punctuation\n",
    "        self.replace_urls = replace_urls\n",
    "        self.replace_numbers = replace_numbers\n",
    "        self.stemming = stemming\n",
    "    def fit(self, X, y=None):\n",
    "        return self\n",
    "    def transform(self, X, y=None):\n",
    "        X_transformed = []\n",
    "        for email in X:\n",
    "            text = email_to_text(email) or \"\"\n",
    "            if self.lower_case:\n",
    "                text = text.lower()\n",
    "            if self.replace_urls and url_extractor is not None:\n",
    "                urls = list(set(url_extractor.find_urls(text)))\n",
    "                urls.sort(key=lambda url: len(url), reverse=True)\n",
    "                for url in urls:\n",
    "                    text = text.replace(url, \" URL \")\n",
    "            if self.replace_numbers:\n",
    "                text = re.sub(r'\\d+(?:\\.\\d*)?(?:[eE][+-]?\\d+)?', 'NUMBER', text)\n",
    "            if self.remove_punctuation:\n",
    "                text = re.sub(r'\\W+', ' ', text, flags=re.M)\n",
    "            word_counts = Counter(text.split())\n",
    "            if self.stemming and stemmer is not None:\n",
    "                stemmed_word_counts = Counter()\n",
    "                for word, count in word_counts.items():\n",
    "                    stemmed_word = stemmer.stem(word)\n",
    "                    stemmed_word_counts[stemmed_word] += count\n",
    "                word_counts = stemmed_word_counts\n",
    "            X_transformed.append(word_counts)\n",
    "        return np.array(X_transformed)"
   ]
  },
  {
   "cell_type": "markdown",
   "id": "3cfbf4b9",
   "metadata": {
    "id": "oxo3FupLVxkl",
    "papermill": {
     "duration": 0.014277,
     "end_time": "2023-04-25T08:45:55.518178",
     "exception": false,
     "start_time": "2023-04-25T08:45:55.503901",
     "status": "completed"
    },
    "tags": []
   },
   "source": [
    "Let's try this transformer on a few emails:"
   ]
  },
  {
   "cell_type": "code",
   "execution_count": 26,
   "id": "0032249d",
   "metadata": {
    "execution": {
     "iopub.execute_input": "2023-04-25T08:45:55.548835Z",
     "iopub.status.busy": "2023-04-25T08:45:55.548375Z",
     "iopub.status.idle": "2023-04-25T08:45:55.584028Z",
     "shell.execute_reply": "2023-04-25T08:45:55.582678Z"
    },
    "id": "CDrCD43hVyUq",
    "outputId": "cbeac2cd-8ba4-450a-f2e3-862903c23d49",
    "papermill": {
     "duration": 0.054465,
     "end_time": "2023-04-25T08:45:55.586746",
     "exception": false,
     "start_time": "2023-04-25T08:45:55.532281",
     "status": "completed"
    },
    "tags": []
   },
   "outputs": [
    {
     "data": {
      "text/plain": [
       "array([Counter({'chuck': 1, 'murcko': 1, 'wrote': 1, 'stuff': 1, 'yawn': 1, 'r': 1}),\n",
       "       Counter({'the': 11, 'of': 9, 'and': 8, 'all': 3, 'christian': 3, 'to': 3, 'by': 3, 'jefferson': 2, 'i': 2, 'have': 2, 'superstit': 2, 'one': 2, 'on': 2, 'been': 2, 'ha': 2, 'half': 2, 'rogueri': 2, 'teach': 2, 'jesu': 2, 'some': 1, 'interest': 1, 'quot': 1, 'url': 1, 'thoma': 1, 'examin': 1, 'known': 1, 'word': 1, 'do': 1, 'not': 1, 'find': 1, 'in': 1, 'our': 1, 'particular': 1, 'redeem': 1, 'featur': 1, 'they': 1, 'are': 1, 'alik': 1, 'found': 1, 'fabl': 1, 'mytholog': 1, 'million': 1, 'innoc': 1, 'men': 1, 'women': 1, 'children': 1, 'sinc': 1, 'introduct': 1, 'burnt': 1, 'tortur': 1, 'fine': 1, 'imprison': 1, 'what': 1, 'effect': 1, 'thi': 1, 'coercion': 1, 'make': 1, 'world': 1, 'fool': 1, 'other': 1, 'hypocrit': 1, 'support': 1, 'error': 1, 'over': 1, 'earth': 1, 'six': 1, 'histor': 1, 'american': 1, 'john': 1, 'e': 1, 'remsburg': 1, 'letter': 1, 'william': 1, 'short': 1, 'again': 1, 'becom': 1, 'most': 1, 'pervert': 1, 'system': 1, 'that': 1, 'ever': 1, 'shone': 1, 'man': 1, 'absurd': 1, 'untruth': 1, 'were': 1, 'perpetr': 1, 'upon': 1, 'a': 1, 'larg': 1, 'band': 1, 'dupe': 1, 'import': 1, 'led': 1, 'paul': 1, 'first': 1, 'great': 1, 'corrupt': 1}),\n",
       "       Counter({'url': 4, 's': 3, 'group': 3, 'to': 3, 'in': 2, 'forteana': 2, 'martin': 2, 'an': 2, 'and': 2, 'we': 2, 'is': 2, 'yahoo': 2, 'unsubscrib': 2, 'y': 1, 'adamson': 1, 'wrote': 1, 'for': 1, 'altern': 1, 'rather': 1, 'more': 1, 'factual': 1, 'base': 1, 'rundown': 1, 'on': 1, 'hamza': 1, 'career': 1, 'includ': 1, 'hi': 1, 'belief': 1, 'that': 1, 'all': 1, 'non': 1, 'muslim': 1, 'yemen': 1, 'should': 1, 'be': 1, 'murder': 1, 'outright': 1, 'know': 1, 'how': 1, 'unbias': 1, 'memri': 1, 'don': 1, 't': 1, 'html': 1, 'rob': 1, 'sponsor': 1, 'number': 1, 'dvd': 1, 'free': 1, 'p': 1, 'join': 1, 'now': 1, 'from': 1, 'thi': 1, 'send': 1, 'email': 1, 'egroup': 1, 'com': 1, 'your': 1, 'use': 1, 'of': 1, 'subject': 1})],\n",
       "      dtype=object)"
      ]
     },
     "execution_count": 26,
     "metadata": {},
     "output_type": "execute_result"
    }
   ],
   "source": [
    "X_few = X_train[:3]\n",
    "X_few_wordcounts = EmailToWordCounterTransformer().fit_transform(X_few)\n",
    "X_few_wordcounts"
   ]
  },
  {
   "cell_type": "code",
   "execution_count": 27,
   "id": "4ae1d892",
   "metadata": {
    "execution": {
     "iopub.execute_input": "2023-04-25T08:45:55.618015Z",
     "iopub.status.busy": "2023-04-25T08:45:55.617527Z",
     "iopub.status.idle": "2023-04-25T08:45:55.625825Z",
     "shell.execute_reply": "2023-04-25T08:45:55.624515Z"
    },
    "id": "IE4_JsEBWD4e",
    "outputId": "9ebaf175-076a-4ae9-85e2-3d33c2ca5e35",
    "papermill": {
     "duration": 0.027159,
     "end_time": "2023-04-25T08:45:55.628443",
     "exception": false,
     "start_time": "2023-04-25T08:45:55.601284",
     "status": "completed"
    },
    "tags": []
   },
   "outputs": [
    {
     "data": {
      "text/plain": [
       "3"
      ]
     },
     "execution_count": 27,
     "metadata": {},
     "output_type": "execute_result"
    }
   ],
   "source": [
    "len(X_few_wordcounts)"
   ]
  },
  {
   "cell_type": "markdown",
   "id": "4144daa6",
   "metadata": {
    "id": "TC_SP257WTdh",
    "papermill": {
     "duration": 0.01412,
     "end_time": "2023-04-25T08:45:55.657120",
     "exception": false,
     "start_time": "2023-04-25T08:45:55.643000",
     "status": "completed"
    },
    "tags": []
   },
   "source": [
    "Now we have the word counts, and we need to convert them to vectors. For this, we will build another transformer whose `fit()` method will build the vocabulary (an ordered list of the most common words) and whose `transform()` method will use the vocabulary to convert word counts to vectors. The output is a sparse matrix."
   ]
  },
  {
   "cell_type": "code",
   "execution_count": 28,
   "id": "c4fd8258",
   "metadata": {
    "execution": {
     "iopub.execute_input": "2023-04-25T08:45:55.689347Z",
     "iopub.status.busy": "2023-04-25T08:45:55.688452Z",
     "iopub.status.idle": "2023-04-25T08:45:55.699879Z",
     "shell.execute_reply": "2023-04-25T08:45:55.698495Z"
    },
    "id": "zHmM9iwPWY6y",
    "papermill": {
     "duration": 0.030703,
     "end_time": "2023-04-25T08:45:55.702522",
     "exception": false,
     "start_time": "2023-04-25T08:45:55.671819",
     "status": "completed"
    },
    "tags": []
   },
   "outputs": [],
   "source": [
    "from scipy.sparse import csr_matrix\n",
    "\n",
    "class WordCounterToVectorTransformer(BaseEstimator, TransformerMixin):\n",
    "    def __init__(self, vocabulary_size=1000):\n",
    "        self.vocabulary_size = vocabulary_size\n",
    "    def fit(self, X, y=None):\n",
    "        total_count = Counter()\n",
    "        for word_count in X:\n",
    "            for word, count in word_count.items():\n",
    "                total_count[word] += min(count, 10)\n",
    "        most_common = total_count.most_common()[:self.vocabulary_size]\n",
    "        self.vocabulary_ = {word: index + 1\n",
    "                            for index, (word, count) in enumerate(most_common)}\n",
    "        return self\n",
    "    def transform(self, X, y=None):\n",
    "        rows = []\n",
    "        cols = []\n",
    "        data = []\n",
    "        for row, word_count in enumerate(X):\n",
    "            for word, count in word_count.items():\n",
    "                rows.append(row)\n",
    "                cols.append(self.vocabulary_.get(word, 0))\n",
    "                data.append(count)\n",
    "        return csr_matrix((data, (rows, cols)),\n",
    "                          shape=(len(X), self.vocabulary_size + 1))"
   ]
  },
  {
   "cell_type": "code",
   "execution_count": 29,
   "id": "d467067b",
   "metadata": {
    "execution": {
     "iopub.execute_input": "2023-04-25T08:45:55.734162Z",
     "iopub.status.busy": "2023-04-25T08:45:55.733752Z",
     "iopub.status.idle": "2023-04-25T08:45:55.747477Z",
     "shell.execute_reply": "2023-04-25T08:45:55.746138Z"
    },
    "id": "13TATBzJWkUe",
    "outputId": "2d1e9fbd-2d64-41ec-87e8-3eac9d32357f",
    "papermill": {
     "duration": 0.032277,
     "end_time": "2023-04-25T08:45:55.749934",
     "exception": false,
     "start_time": "2023-04-25T08:45:55.717657",
     "status": "completed"
    },
    "tags": []
   },
   "outputs": [
    {
     "data": {
      "text/plain": [
       "<3x11 sparse matrix of type '<class 'numpy.int64'>'\n",
       "\twith 20 stored elements in Compressed Sparse Row format>"
      ]
     },
     "execution_count": 29,
     "metadata": {},
     "output_type": "execute_result"
    }
   ],
   "source": [
    "vocab_transformer = WordCounterToVectorTransformer(vocabulary_size=10)\n",
    "X_few_vectors = vocab_transformer.fit_transform(X_few_wordcounts)\n",
    "X_few_vectors"
   ]
  },
  {
   "cell_type": "code",
   "execution_count": 30,
   "id": "334ff495",
   "metadata": {
    "execution": {
     "iopub.execute_input": "2023-04-25T08:45:55.782066Z",
     "iopub.status.busy": "2023-04-25T08:45:55.781623Z",
     "iopub.status.idle": "2023-04-25T08:45:55.789605Z",
     "shell.execute_reply": "2023-04-25T08:45:55.788708Z"
    },
    "id": "fpASTnhraGqI",
    "outputId": "538079c2-5687-4986-ed83-54fbd4a13bd5",
    "papermill": {
     "duration": 0.027005,
     "end_time": "2023-04-25T08:45:55.791787",
     "exception": false,
     "start_time": "2023-04-25T08:45:55.764782",
     "status": "completed"
    },
    "tags": []
   },
   "outputs": [
    {
     "data": {
      "text/plain": [
       "array([[ 6,  0,  0,  0,  0,  0,  0,  0,  0,  0,  0],\n",
       "       [99, 11,  9,  8,  3,  1,  3,  1,  3,  2,  3],\n",
       "       [67,  0,  1,  2,  3,  4,  1,  2,  0,  1,  0]])"
      ]
     },
     "execution_count": 30,
     "metadata": {},
     "output_type": "execute_result"
    }
   ],
   "source": [
    "X_few_vectors.toarray()"
   ]
  },
  {
   "cell_type": "markdown",
   "id": "58188b51",
   "metadata": {
    "id": "8O3qjKszcdcI",
    "papermill": {
     "duration": 0.015132,
     "end_time": "2023-04-25T08:45:55.822141",
     "exception": false,
     "start_time": "2023-04-25T08:45:55.807009",
     "status": "completed"
    },
    "tags": []
   },
   "source": [
    "What does this matrix mean? Well, the 99 in the second row, first column, means that the second email contains 99 words that are not part of the vocabulary. The 11 next to it means that the first word in the vocabulary is present 11 times in this email. The 9 next to it means that the second word is present 9 times, and so on. You can look at the vocabulary to know which words we are talking about. The first word is \"the\", the second word is \"of\", etc."
   ]
  },
  {
   "cell_type": "code",
   "execution_count": 31,
   "id": "ade52b2b",
   "metadata": {
    "execution": {
     "iopub.execute_input": "2023-04-25T08:45:55.854596Z",
     "iopub.status.busy": "2023-04-25T08:45:55.854094Z",
     "iopub.status.idle": "2023-04-25T08:45:55.862215Z",
     "shell.execute_reply": "2023-04-25T08:45:55.861043Z"
    },
    "id": "7eOWmeuhc7Ap",
    "outputId": "2a6b524b-cf22-424b-978f-6e939e6641fe",
    "papermill": {
     "duration": 0.027466,
     "end_time": "2023-04-25T08:45:55.864788",
     "exception": false,
     "start_time": "2023-04-25T08:45:55.837322",
     "status": "completed"
    },
    "tags": []
   },
   "outputs": [
    {
     "data": {
      "text/plain": [
       "{'the': 1,\n",
       " 'of': 2,\n",
       " 'and': 3,\n",
       " 'to': 4,\n",
       " 'url': 5,\n",
       " 'all': 6,\n",
       " 'in': 7,\n",
       " 'christian': 8,\n",
       " 'on': 9,\n",
       " 'by': 10}"
      ]
     },
     "execution_count": 31,
     "metadata": {},
     "output_type": "execute_result"
    }
   ],
   "source": [
    "vocab_transformer.vocabulary_"
   ]
  },
  {
   "cell_type": "markdown",
   "id": "6d163b8c",
   "metadata": {
    "id": "riINpKMGdLoq",
    "papermill": {
     "duration": 0.015315,
     "end_time": "2023-04-25T08:45:55.895301",
     "exception": false,
     "start_time": "2023-04-25T08:45:55.879986",
     "status": "completed"
    },
    "tags": []
   },
   "source": [
    "# Classifier"
   ]
  },
  {
   "cell_type": "markdown",
   "id": "048f2e1e",
   "metadata": {
    "id": "EXvnOJTudPxw",
    "papermill": {
     "duration": 0.014887,
     "end_time": "2023-04-25T08:45:55.925606",
     "exception": false,
     "start_time": "2023-04-25T08:45:55.910719",
     "status": "completed"
    },
    "tags": []
   },
   "source": [
    "## Data Transformation "
   ]
  },
  {
   "cell_type": "code",
   "execution_count": 32,
   "id": "6eb83b79",
   "metadata": {
    "execution": {
     "iopub.execute_input": "2023-04-25T08:45:55.958192Z",
     "iopub.status.busy": "2023-04-25T08:45:55.957479Z",
     "iopub.status.idle": "2023-04-25T08:46:40.655136Z",
     "shell.execute_reply": "2023-04-25T08:46:40.653840Z"
    },
    "id": "siGknXiOdTwm",
    "outputId": "14011579-1e43-45c0-a421-673225c0e966",
    "papermill": {
     "duration": 44.717154,
     "end_time": "2023-04-25T08:46:40.657989",
     "exception": false,
     "start_time": "2023-04-25T08:45:55.940835",
     "status": "completed"
    },
    "tags": []
   },
   "outputs": [
    {
     "name": "stdout",
     "output_type": "stream",
     "text": [
      "[Pipeline]  (step 1 of 2) Processing email_to_wordcount, total=  44.2s\n",
      "[Pipeline]  (step 2 of 2) Processing wordcount_to_vector, total=   0.4s\n"
     ]
    }
   ],
   "source": [
    "from sklearn.pipeline import Pipeline\n",
    "\n",
    "preprocess_pipeline = Pipeline([\n",
    "    (\"email_to_wordcount\", EmailToWordCounterTransformer()),\n",
    "    (\"wordcount_to_vector\", WordCounterToVectorTransformer()),\n",
    "    \n",
    "],verbose=True)\n",
    "\n",
    "X_train_transformed = preprocess_pipeline.fit_transform(X_train)"
   ]
  },
  {
   "cell_type": "markdown",
   "id": "87d3d14c",
   "metadata": {
    "id": "hi4BZvMagXyY",
    "papermill": {
     "duration": 0.01495,
     "end_time": "2023-04-25T08:46:40.688293",
     "exception": false,
     "start_time": "2023-04-25T08:46:40.673343",
     "status": "completed"
    },
    "tags": []
   },
   "source": [
    "## Regression Model"
   ]
  },
  {
   "cell_type": "code",
   "execution_count": 33,
   "id": "09548160",
   "metadata": {
    "execution": {
     "iopub.execute_input": "2023-04-25T08:46:40.720955Z",
     "iopub.status.busy": "2023-04-25T08:46:40.720534Z",
     "iopub.status.idle": "2023-04-25T08:46:42.066962Z",
     "shell.execute_reply": "2023-04-25T08:46:42.065750Z"
    },
    "id": "5hhfwyDIgbdK",
    "outputId": "fd94ca20-be0f-40ce-aba7-96c02287ee83",
    "papermill": {
     "duration": 1.365553,
     "end_time": "2023-04-25T08:46:42.069476",
     "exception": false,
     "start_time": "2023-04-25T08:46:40.703923",
     "status": "completed"
    },
    "tags": []
   },
   "outputs": [
    {
     "name": "stderr",
     "output_type": "stream",
     "text": [
      "[Parallel(n_jobs=1)]: Using backend SequentialBackend with 1 concurrent workers.\n",
      "[Parallel(n_jobs=1)]: Done   3 out of   3 | elapsed:    1.3s finished\n"
     ]
    },
    {
     "data": {
      "text/plain": [
       "0.985"
      ]
     },
     "execution_count": 33,
     "metadata": {},
     "output_type": "execute_result"
    }
   ],
   "source": [
    "from sklearn.linear_model import LogisticRegression\n",
    "from sklearn.model_selection import cross_val_score\n",
    "\n",
    "log_clf = LogisticRegression(max_iter=1000, random_state=42)\n",
    "score = cross_val_score(log_clf, X_train_transformed, y_train, cv=3, verbose=1)\n",
    "score.mean()"
   ]
  },
  {
   "cell_type": "markdown",
   "id": "3279661a",
   "metadata": {
    "id": "7VYz7-1qkwGt",
    "papermill": {
     "duration": 0.015142,
     "end_time": "2023-04-25T08:46:42.100135",
     "exception": false,
     "start_time": "2023-04-25T08:46:42.084993",
     "status": "completed"
    },
    "tags": []
   },
   "source": [
    "Over 98.5%\n",
    "\n",
    "However, we are using the \"easy\" dataset. \n",
    "\n",
    "You can try with the harder datasets, the results won't be so amazing. You would have to try multiple models, select the best ones and fine-tune them using cross-validation, and so on.\n",
    "\n",
    "But you get the picture, so let's stop now, and just print out the precision/recall we get on the test set:"
   ]
  },
  {
   "cell_type": "code",
   "execution_count": 34,
   "id": "33b78f9c",
   "metadata": {
    "execution": {
     "iopub.execute_input": "2023-04-25T08:46:42.133757Z",
     "iopub.status.busy": "2023-04-25T08:46:42.133309Z",
     "iopub.status.idle": "2023-04-25T08:46:56.292851Z",
     "shell.execute_reply": "2023-04-25T08:46:56.291235Z"
    },
    "id": "_0KW_WZckvyJ",
    "outputId": "80c30917-8f04-4ee1-b33c-aa86de92ced7",
    "papermill": {
     "duration": 14.180007,
     "end_time": "2023-04-25T08:46:56.295867",
     "exception": false,
     "start_time": "2023-04-25T08:46:42.115860",
     "status": "completed"
    },
    "tags": []
   },
   "outputs": [
    {
     "name": "stdout",
     "output_type": "stream",
     "text": [
      "Precision: 96.88%\n",
      "Recall: 97.89%\n"
     ]
    }
   ],
   "source": [
    "from sklearn.metrics import precision_score, recall_score\n",
    "\n",
    "X_test_transformed = preprocess_pipeline.transform(X_test)\n",
    "\n",
    "log_clf = LogisticRegression(max_iter=1000, random_state=42)\n",
    "log_clf.fit(X_train_transformed, y_train)\n",
    "\n",
    "y_pred = log_clf.predict(X_test_transformed)\n",
    "\n",
    "print(f\"Precision: {precision_score(y_test, y_pred):.2%}\")\n",
    "print(f\"Recall: {recall_score(y_test, y_pred):.2%}\")"
   ]
  }
 ],
 "metadata": {
  "kernelspec": {
   "display_name": "Python 3",
   "language": "python",
   "name": "python3"
  },
  "language_info": {
   "codemirror_mode": {
    "name": "ipython",
    "version": 3
   },
   "file_extension": ".py",
   "mimetype": "text/x-python",
   "name": "python",
   "nbconvert_exporter": "python",
   "pygments_lexer": "ipython3",
   "version": "3.7.12"
  },
  "papermill": {
   "default_parameters": {},
   "duration": 94.977477,
   "end_time": "2023-04-25T08:46:57.238852",
   "environment_variables": {},
   "exception": null,
   "input_path": "__notebook__.ipynb",
   "output_path": "__notebook__.ipynb",
   "parameters": {},
   "start_time": "2023-04-25T08:45:22.261375",
   "version": "2.4.0"
  }
 },
 "nbformat": 4,
 "nbformat_minor": 5
}
