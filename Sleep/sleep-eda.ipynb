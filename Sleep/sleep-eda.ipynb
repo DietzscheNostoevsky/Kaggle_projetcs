{
 "cells": [
  {
   "cell_type": "code",
   "execution_count": 2,
   "metadata": {},
   "outputs": [],
   "source": [
    "import pandas as pd\n",
    "\n",
    "data = \"dataset/child-mind-institute-detect-sleep-states/train_series.parquet\"\n",
    "data2 = \"dataset/child-mind-institute-detect-sleep-states/test_series.parquet\"\n",
    "data_csv = \"dataset/child-mind-institute-detect-sleep-states/train.csv\"\n",
    "data_reduced = \"dataset/child-mind-institute-detect-sleep-states/reduced_dataset/reduced_train.parquet\""
   ]
  },
  {
   "cell_type": "code",
   "execution_count": 3,
   "metadata": {},
   "outputs": [],
   "source": [
    "#df2 = pd.DataFrame(pd.read_csv(data_csv, nrows=1000))\n"
   ]
  },
  {
   "cell_type": "code",
   "execution_count": 4,
   "metadata": {},
   "outputs": [
    {
     "data": {
      "text/html": [
       "<div>\n",
       "<style scoped>\n",
       "    .dataframe tbody tr th:only-of-type {\n",
       "        vertical-align: middle;\n",
       "    }\n",
       "\n",
       "    .dataframe tbody tr th {\n",
       "        vertical-align: top;\n",
       "    }\n",
       "\n",
       "    .dataframe thead th {\n",
       "        text-align: right;\n",
       "    }\n",
       "</style>\n",
       "<table border=\"1\" class=\"dataframe\">\n",
       "  <thead>\n",
       "    <tr style=\"text-align: right;\">\n",
       "      <th></th>\n",
       "      <th>Unnamed: 0</th>\n",
       "      <th>step</th>\n",
       "      <th>anglez</th>\n",
       "      <th>enmo</th>\n",
       "    </tr>\n",
       "  </thead>\n",
       "  <tbody>\n",
       "    <tr>\n",
       "      <th>count</th>\n",
       "      <td>1000.000000</td>\n",
       "      <td>1000.000000</td>\n",
       "      <td>1000.000000</td>\n",
       "      <td>1000.000000</td>\n",
       "    </tr>\n",
       "    <tr>\n",
       "      <th>mean</th>\n",
       "      <td>499.500000</td>\n",
       "      <td>499.500000</td>\n",
       "      <td>-56.693871</td>\n",
       "      <td>0.054410</td>\n",
       "    </tr>\n",
       "    <tr>\n",
       "      <th>std</th>\n",
       "      <td>288.819436</td>\n",
       "      <td>288.819436</td>\n",
       "      <td>35.867004</td>\n",
       "      <td>0.111564</td>\n",
       "    </tr>\n",
       "    <tr>\n",
       "      <th>min</th>\n",
       "      <td>0.000000</td>\n",
       "      <td>0.000000</td>\n",
       "      <td>-85.658700</td>\n",
       "      <td>0.000000</td>\n",
       "    </tr>\n",
       "    <tr>\n",
       "      <th>25%</th>\n",
       "      <td>249.750000</td>\n",
       "      <td>249.750000</td>\n",
       "      <td>-83.363900</td>\n",
       "      <td>0.013800</td>\n",
       "    </tr>\n",
       "    <tr>\n",
       "      <th>50%</th>\n",
       "      <td>499.500000</td>\n",
       "      <td>499.500000</td>\n",
       "      <td>-80.153600</td>\n",
       "      <td>0.014900</td>\n",
       "    </tr>\n",
       "    <tr>\n",
       "      <th>75%</th>\n",
       "      <td>749.250000</td>\n",
       "      <td>749.250000</td>\n",
       "      <td>-24.487200</td>\n",
       "      <td>0.045775</td>\n",
       "    </tr>\n",
       "    <tr>\n",
       "      <th>max</th>\n",
       "      <td>999.000000</td>\n",
       "      <td>999.000000</td>\n",
       "      <td>68.460500</td>\n",
       "      <td>1.223300</td>\n",
       "    </tr>\n",
       "  </tbody>\n",
       "</table>\n",
       "</div>"
      ],
      "text/plain": [
       "        Unnamed: 0         step       anglez         enmo\n",
       "count  1000.000000  1000.000000  1000.000000  1000.000000\n",
       "mean    499.500000   499.500000   -56.693871     0.054410\n",
       "std     288.819436   288.819436    35.867004     0.111564\n",
       "min       0.000000     0.000000   -85.658700     0.000000\n",
       "25%     249.750000   249.750000   -83.363900     0.013800\n",
       "50%     499.500000   499.500000   -80.153600     0.014900\n",
       "75%     749.250000   749.250000   -24.487200     0.045775\n",
       "max     999.000000   999.000000    68.460500     1.223300"
      ]
     },
     "execution_count": 4,
     "metadata": {},
     "output_type": "execute_result"
    }
   ],
   "source": [
    "#df2.describe()"
   ]
  },
  {
   "cell_type": "code",
   "execution_count": 4,
   "metadata": {},
   "outputs": [
    {
     "ename": "",
     "evalue": "",
     "output_type": "error",
     "traceback": [
      "\u001b[1;31mCannot execute code, session has been disposed. Please try restarting the Kernel."
     ]
    },
    {
     "ename": "",
     "evalue": "",
     "output_type": "error",
     "traceback": [
      "\u001b[1;31mThe Kernel crashed while executing code in the the current cell or a previous cell. Please review the code in the cell(s) to identify a possible cause of the failure. Click <a href='https://aka.ms/vscodeJupyterKernelCrash'>here</a> for more info. View Jupyter <a href='command:jupyter.viewOutput'>log</a> for further details."
     ]
    }
   ],
   "source": [
    "# df = pd.read_parquet(data)\n",
    "\n",
    "# Failed due to low RAM. continue after buying more RAM. Need more than 16 . Have 16"
   ]
  },
  {
   "cell_type": "code",
   "execution_count": 5,
   "metadata": {},
   "outputs": [
    {
     "name": "stdout",
     "output_type": "stream",
     "text": [
      "127946341\n"
     ]
    }
   ],
   "source": [
    "rowcount = 0\n",
    "\n",
    "for row in open(data_csv):\n",
    "    rowcount+=1\n",
    "\n",
    "print(rowcount)"
   ]
  },
  {
   "cell_type": "code",
   "execution_count": 3,
   "metadata": {},
   "outputs": [],
   "source": [
    "df_reduced = pd.read_parquet(data_reduced)\n",
    "\n",
    "#worked with 16GB RAM"
   ]
  },
  {
   "cell_type": "code",
   "execution_count": 4,
   "metadata": {},
   "outputs": [
    {
     "data": {
      "text/html": [
       "<div>\n",
       "<style scoped>\n",
       "    .dataframe tbody tr th:only-of-type {\n",
       "        vertical-align: middle;\n",
       "    }\n",
       "\n",
       "    .dataframe tbody tr th {\n",
       "        vertical-align: top;\n",
       "    }\n",
       "\n",
       "    .dataframe thead th {\n",
       "        text-align: right;\n",
       "    }\n",
       "</style>\n",
       "<table border=\"1\" class=\"dataframe\">\n",
       "  <thead>\n",
       "    <tr style=\"text-align: right;\">\n",
       "      <th></th>\n",
       "      <th>series_id</th>\n",
       "      <th>step</th>\n",
       "      <th>timestamp</th>\n",
       "      <th>anglez</th>\n",
       "      <th>enmo</th>\n",
       "      <th>awake</th>\n",
       "    </tr>\n",
       "  </thead>\n",
       "  <tbody>\n",
       "    <tr>\n",
       "      <th>0</th>\n",
       "      <td>08db4255286f</td>\n",
       "      <td>0</td>\n",
       "      <td>2018-11-05T10:00:00-0400</td>\n",
       "      <td>-30.845301</td>\n",
       "      <td>0.0447</td>\n",
       "      <td>1</td>\n",
       "    </tr>\n",
       "    <tr>\n",
       "      <th>1</th>\n",
       "      <td>08db4255286f</td>\n",
       "      <td>1</td>\n",
       "      <td>2018-11-05T10:00:05-0400</td>\n",
       "      <td>-34.181801</td>\n",
       "      <td>0.0443</td>\n",
       "      <td>1</td>\n",
       "    </tr>\n",
       "    <tr>\n",
       "      <th>2</th>\n",
       "      <td>08db4255286f</td>\n",
       "      <td>2</td>\n",
       "      <td>2018-11-05T10:00:10-0400</td>\n",
       "      <td>-33.877102</td>\n",
       "      <td>0.0483</td>\n",
       "      <td>1</td>\n",
       "    </tr>\n",
       "    <tr>\n",
       "      <th>3</th>\n",
       "      <td>08db4255286f</td>\n",
       "      <td>3</td>\n",
       "      <td>2018-11-05T10:00:15-0400</td>\n",
       "      <td>-34.282101</td>\n",
       "      <td>0.0680</td>\n",
       "      <td>1</td>\n",
       "    </tr>\n",
       "    <tr>\n",
       "      <th>4</th>\n",
       "      <td>08db4255286f</td>\n",
       "      <td>4</td>\n",
       "      <td>2018-11-05T10:00:20-0400</td>\n",
       "      <td>-34.385799</td>\n",
       "      <td>0.0768</td>\n",
       "      <td>1</td>\n",
       "    </tr>\n",
       "  </tbody>\n",
       "</table>\n",
       "</div>"
      ],
      "text/plain": [
       "      series_id  step                 timestamp     anglez    enmo  awake\n",
       "0  08db4255286f     0  2018-11-05T10:00:00-0400 -30.845301  0.0447      1\n",
       "1  08db4255286f     1  2018-11-05T10:00:05-0400 -34.181801  0.0443      1\n",
       "2  08db4255286f     2  2018-11-05T10:00:10-0400 -33.877102  0.0483      1\n",
       "3  08db4255286f     3  2018-11-05T10:00:15-0400 -34.282101  0.0680      1\n",
       "4  08db4255286f     4  2018-11-05T10:00:20-0400 -34.385799  0.0768      1"
      ]
     },
     "execution_count": 4,
     "metadata": {},
     "output_type": "execute_result"
    }
   ],
   "source": [
    "df_reduced.head()"
   ]
  },
  {
   "cell_type": "code",
   "execution_count": 5,
   "metadata": {},
   "outputs": [
    {
     "data": {
      "text/html": [
       "<div>\n",
       "<style scoped>\n",
       "    .dataframe tbody tr th:only-of-type {\n",
       "        vertical-align: middle;\n",
       "    }\n",
       "\n",
       "    .dataframe tbody tr th {\n",
       "        vertical-align: top;\n",
       "    }\n",
       "\n",
       "    .dataframe thead th {\n",
       "        text-align: right;\n",
       "    }\n",
       "</style>\n",
       "<table border=\"1\" class=\"dataframe\">\n",
       "  <thead>\n",
       "    <tr style=\"text-align: right;\">\n",
       "      <th></th>\n",
       "      <th>step</th>\n",
       "      <th>anglez</th>\n",
       "      <th>enmo</th>\n",
       "      <th>awake</th>\n",
       "    </tr>\n",
       "  </thead>\n",
       "  <tbody>\n",
       "    <tr>\n",
       "      <th>count</th>\n",
       "      <td>1.316556e+07</td>\n",
       "      <td>1.316556e+07</td>\n",
       "      <td>1.316556e+07</td>\n",
       "      <td>1.316556e+07</td>\n",
       "    </tr>\n",
       "    <tr>\n",
       "      <th>mean</th>\n",
       "      <td>2.033736e+05</td>\n",
       "      <td>-9.186773e+00</td>\n",
       "      <td>4.404299e-02</td>\n",
       "      <td>6.577188e-01</td>\n",
       "    </tr>\n",
       "    <tr>\n",
       "      <th>std</th>\n",
       "      <td>1.272140e+05</td>\n",
       "      <td>3.845213e+01</td>\n",
       "      <td>1.103743e-01</td>\n",
       "      <td>4.744732e-01</td>\n",
       "    </tr>\n",
       "    <tr>\n",
       "      <th>min</th>\n",
       "      <td>0.000000e+00</td>\n",
       "      <td>-9.000000e+01</td>\n",
       "      <td>0.000000e+00</td>\n",
       "      <td>0.000000e+00</td>\n",
       "    </tr>\n",
       "    <tr>\n",
       "      <th>25%</th>\n",
       "      <td>9.571475e+04</td>\n",
       "      <td>-3.886622e+01</td>\n",
       "      <td>1.100000e-03</td>\n",
       "      <td>0.000000e+00</td>\n",
       "    </tr>\n",
       "    <tr>\n",
       "      <th>50%</th>\n",
       "      <td>1.954510e+05</td>\n",
       "      <td>-1.031420e+01</td>\n",
       "      <td>1.600000e-02</td>\n",
       "      <td>1.000000e+00</td>\n",
       "    </tr>\n",
       "    <tr>\n",
       "      <th>75%</th>\n",
       "      <td>3.022720e+05</td>\n",
       "      <td>1.658750e+01</td>\n",
       "      <td>4.080000e-02</td>\n",
       "      <td>1.000000e+00</td>\n",
       "    </tr>\n",
       "    <tr>\n",
       "      <th>max</th>\n",
       "      <td>6.346790e+05</td>\n",
       "      <td>9.000000e+01</td>\n",
       "      <td>7.016100e+00</td>\n",
       "      <td>1.000000e+00</td>\n",
       "    </tr>\n",
       "  </tbody>\n",
       "</table>\n",
       "</div>"
      ],
      "text/plain": [
       "               step        anglez          enmo         awake\n",
       "count  1.316556e+07  1.316556e+07  1.316556e+07  1.316556e+07\n",
       "mean   2.033736e+05 -9.186773e+00  4.404299e-02  6.577188e-01\n",
       "std    1.272140e+05  3.845213e+01  1.103743e-01  4.744732e-01\n",
       "min    0.000000e+00 -9.000000e+01  0.000000e+00  0.000000e+00\n",
       "25%    9.571475e+04 -3.886622e+01  1.100000e-03  0.000000e+00\n",
       "50%    1.954510e+05 -1.031420e+01  1.600000e-02  1.000000e+00\n",
       "75%    3.022720e+05  1.658750e+01  4.080000e-02  1.000000e+00\n",
       "max    6.346790e+05  9.000000e+01  7.016100e+00  1.000000e+00"
      ]
     },
     "execution_count": 5,
     "metadata": {},
     "output_type": "execute_result"
    }
   ],
   "source": [
    "df_reduced.describe()"
   ]
  },
  {
   "cell_type": "code",
   "execution_count": 9,
   "metadata": {},
   "outputs": [
    {
     "name": "stdout",
     "output_type": "stream",
     "text": [
      "13165560\n"
     ]
    }
   ],
   "source": [
    "print(df_reduced.__len__())\n"
   ]
  },
  {
   "cell_type": "code",
   "execution_count": null,
   "metadata": {},
   "outputs": [],
   "source": [
    "# Original dataset : 127946341\n",
    "# Reduced dataset :   13165560"
   ]
  }
 ],
 "metadata": {
  "kernelspec": {
   "display_name": "mlenv",
   "language": "python",
   "name": "python3"
  },
  "language_info": {
   "codemirror_mode": {
    "name": "ipython",
    "version": 3
   },
   "file_extension": ".py",
   "mimetype": "text/x-python",
   "name": "python",
   "nbconvert_exporter": "python",
   "pygments_lexer": "ipython3",
   "version": "3.11.4"
  },
  "orig_nbformat": 4
 },
 "nbformat": 4,
 "nbformat_minor": 2
}
