{
 "cells": [
  {
   "cell_type": "code",
   "execution_count": 1,
   "id": "686309e8",
   "metadata": {
    "_cell_guid": "b1076dfc-b9ad-4769-8c92-a6c4dae69d19",
    "_uuid": "8f2839f25d086af736a60e9eeb907d3b93b6e0e5",
    "execution": {
     "iopub.execute_input": "2023-09-06T19:54:41.135528Z",
     "iopub.status.busy": "2023-09-06T19:54:41.134977Z",
     "iopub.status.idle": "2023-09-06T19:54:42.101616Z",
     "shell.execute_reply": "2023-09-06T19:54:42.098801Z"
    },
    "papermill": {
     "duration": 0.978818,
     "end_time": "2023-09-06T19:54:42.105430",
     "exception": false,
     "start_time": "2023-09-06T19:54:41.126612",
     "status": "completed"
    },
    "tags": []
   },
   "outputs": [
    {
     "name": "stdout",
     "output_type": "stream",
     "text": [
      "/kaggle/input/child-mind-institute-detect-sleep-states/train_series.parquet\n",
      "/kaggle/input/child-mind-institute-detect-sleep-states/sample_submission.csv\n",
      "/kaggle/input/child-mind-institute-detect-sleep-states/train_events.csv\n",
      "/kaggle/input/child-mind-institute-detect-sleep-states/test_series.parquet\n"
     ]
    }
   ],
   "source": [
    "# This Python 3 environment comes with many helpful analytics libraries installed\n",
    "# It is defined by the kaggle/python Docker image: https://github.com/kaggle/docker-python\n",
    "# For example, here's several helpful packages to load\n",
    "\n",
    "import numpy as np # linear algebra\n",
    "import pandas as pd # data processing, CSV file I/O (e.g. pd.read_csv)\n",
    "\n",
    "# Input data files are available in the read-only \"../input/\" directory\n",
    "# For example, running this (by clicking run or pressing Shift+Enter) will list all files under the input directory\n",
    "\n",
    "import os\n",
    "for dirname, _, filenames in os.walk('/kaggle/input'):\n",
    "    for filename in filenames:\n",
    "        print(os.path.join(dirname, filename))\n",
    "\n",
    "# You can write up to 20GB to the current directory (/kaggle/working/) that gets preserved as output when you create a version using \"Save & Run All\" \n",
    "# You can also write temporary files to /kaggle/temp/, but they won't be saved outside of the current session"
   ]
  },
  {
   "cell_type": "code",
   "execution_count": 2,
   "id": "861a415e",
   "metadata": {
    "execution": {
     "iopub.execute_input": "2023-09-06T19:54:42.119226Z",
     "iopub.status.busy": "2023-09-06T19:54:42.117987Z",
     "iopub.status.idle": "2023-09-06T19:54:42.123668Z",
     "shell.execute_reply": "2023-09-06T19:54:42.122439Z"
    },
    "papermill": {
     "duration": 0.015346,
     "end_time": "2023-09-06T19:54:42.126487",
     "exception": false,
     "start_time": "2023-09-06T19:54:42.111141",
     "status": "completed"
    },
    "tags": []
   },
   "outputs": [],
   "source": [
    "import pandas as pd \n",
    "\n",
    "data = \"/kaggle/input/child-mind-institute-detect-sleep-states/train_series.parquet\""
   ]
  },
  {
   "cell_type": "code",
   "execution_count": 3,
   "id": "db99f990",
   "metadata": {
    "execution": {
     "iopub.execute_input": "2023-09-06T19:54:42.138153Z",
     "iopub.status.busy": "2023-09-06T19:54:42.137729Z",
     "iopub.status.idle": "2023-09-06T19:55:40.020845Z",
     "shell.execute_reply": "2023-09-06T19:55:40.019449Z"
    },
    "papermill": {
     "duration": 57.892181,
     "end_time": "2023-09-06T19:55:40.023634",
     "exception": false,
     "start_time": "2023-09-06T19:54:42.131453",
     "status": "completed"
    },
    "tags": []
   },
   "outputs": [],
   "source": [
    "df = pd.read_parquet(data)"
   ]
  },
  {
   "cell_type": "code",
   "execution_count": 4,
   "id": "4c6bd045",
   "metadata": {
    "execution": {
     "iopub.execute_input": "2023-09-06T19:55:40.035550Z",
     "iopub.status.busy": "2023-09-06T19:55:40.035093Z",
     "iopub.status.idle": "2023-09-06T19:55:40.059757Z",
     "shell.execute_reply": "2023-09-06T19:55:40.058572Z"
    },
    "papermill": {
     "duration": 0.033522,
     "end_time": "2023-09-06T19:55:40.062321",
     "exception": false,
     "start_time": "2023-09-06T19:55:40.028799",
     "status": "completed"
    },
    "tags": []
   },
   "outputs": [
    {
     "data": {
      "text/html": [
       "<div>\n",
       "<style scoped>\n",
       "    .dataframe tbody tr th:only-of-type {\n",
       "        vertical-align: middle;\n",
       "    }\n",
       "\n",
       "    .dataframe tbody tr th {\n",
       "        vertical-align: top;\n",
       "    }\n",
       "\n",
       "    .dataframe thead th {\n",
       "        text-align: right;\n",
       "    }\n",
       "</style>\n",
       "<table border=\"1\" class=\"dataframe\">\n",
       "  <thead>\n",
       "    <tr style=\"text-align: right;\">\n",
       "      <th></th>\n",
       "      <th>series_id</th>\n",
       "      <th>step</th>\n",
       "      <th>timestamp</th>\n",
       "      <th>anglez</th>\n",
       "      <th>enmo</th>\n",
       "    </tr>\n",
       "  </thead>\n",
       "  <tbody>\n",
       "    <tr>\n",
       "      <th>0</th>\n",
       "      <td>038441c925bb</td>\n",
       "      <td>0</td>\n",
       "      <td>2018-08-14T15:30:00-0400</td>\n",
       "      <td>2.6367</td>\n",
       "      <td>0.0217</td>\n",
       "    </tr>\n",
       "    <tr>\n",
       "      <th>1</th>\n",
       "      <td>038441c925bb</td>\n",
       "      <td>1</td>\n",
       "      <td>2018-08-14T15:30:05-0400</td>\n",
       "      <td>2.6368</td>\n",
       "      <td>0.0215</td>\n",
       "    </tr>\n",
       "    <tr>\n",
       "      <th>2</th>\n",
       "      <td>038441c925bb</td>\n",
       "      <td>2</td>\n",
       "      <td>2018-08-14T15:30:10-0400</td>\n",
       "      <td>2.6370</td>\n",
       "      <td>0.0216</td>\n",
       "    </tr>\n",
       "    <tr>\n",
       "      <th>3</th>\n",
       "      <td>038441c925bb</td>\n",
       "      <td>3</td>\n",
       "      <td>2018-08-14T15:30:15-0400</td>\n",
       "      <td>2.6368</td>\n",
       "      <td>0.0213</td>\n",
       "    </tr>\n",
       "    <tr>\n",
       "      <th>4</th>\n",
       "      <td>038441c925bb</td>\n",
       "      <td>4</td>\n",
       "      <td>2018-08-14T15:30:20-0400</td>\n",
       "      <td>2.6368</td>\n",
       "      <td>0.0215</td>\n",
       "    </tr>\n",
       "  </tbody>\n",
       "</table>\n",
       "</div>"
      ],
      "text/plain": [
       "      series_id  step                 timestamp  anglez    enmo\n",
       "0  038441c925bb     0  2018-08-14T15:30:00-0400  2.6367  0.0217\n",
       "1  038441c925bb     1  2018-08-14T15:30:05-0400  2.6368  0.0215\n",
       "2  038441c925bb     2  2018-08-14T15:30:10-0400  2.6370  0.0216\n",
       "3  038441c925bb     3  2018-08-14T15:30:15-0400  2.6368  0.0213\n",
       "4  038441c925bb     4  2018-08-14T15:30:20-0400  2.6368  0.0215"
      ]
     },
     "execution_count": 4,
     "metadata": {},
     "output_type": "execute_result"
    }
   ],
   "source": [
    "df.head()"
   ]
  },
  {
   "cell_type": "code",
   "execution_count": 5,
   "id": "20d4d310",
   "metadata": {
    "execution": {
     "iopub.execute_input": "2023-09-06T19:55:40.075093Z",
     "iopub.status.busy": "2023-09-06T19:55:40.074681Z",
     "iopub.status.idle": "2023-09-06T20:11:29.489295Z",
     "shell.execute_reply": "2023-09-06T20:11:29.486669Z"
    },
    "papermill": {
     "duration": 949.427211,
     "end_time": "2023-09-06T20:11:29.495322",
     "exception": false,
     "start_time": "2023-09-06T19:55:40.068111",
     "status": "completed"
    },
    "tags": []
   },
   "outputs": [],
   "source": [
    "df.to_csv(\"train.csv\")"
   ]
  },
  {
   "cell_type": "code",
   "execution_count": null,
   "id": "240de666",
   "metadata": {
    "papermill": {
     "duration": 0.005068,
     "end_time": "2023-09-06T20:11:29.509323",
     "exception": false,
     "start_time": "2023-09-06T20:11:29.504255",
     "status": "completed"
    },
    "tags": []
   },
   "outputs": [],
   "source": []
  }
 ],
 "kernelspec": {
  "display_name": "Python 3",
  "language": "python",
  "name": "python3"
 },
 "language_info": {
  "codemirror_mode": {
   "name": "ipython",
   "version": 3
  },
  "file_extension": ".py",
  "mimetype": "text/x-python",
  "name": "python",
  "nbconvert_exporter": "python",
  "pygments_lexer": "ipython3",
  "version": "3.6.4"
 },
 "metadata": {
  "kernelspec": {
   "display_name": "Python 3",
   "language": "python",
   "name": "python3"
  },
  "language_info": {
   "codemirror_mode": {
    "name": "ipython",
    "version": 3
   },
   "file_extension": ".py",
   "mimetype": "text/x-python",
   "name": "python",
   "nbconvert_exporter": "python",
   "pygments_lexer": "ipython3",
   "version": "3.10.12"
  },
  "papermill": {
   "default_parameters": {},
   "duration": 1016.115649,
   "end_time": "2023-09-06T20:11:32.141880",
   "environment_variables": {},
   "exception": null,
   "input_path": "__notebook__.ipynb",
   "output_path": "__notebook__.ipynb",
   "parameters": {},
   "start_time": "2023-09-06T19:54:36.026231",
   "version": "2.4.0"
  }
 },
 "nbformat": 4,
 "nbformat_minor": 5
}
